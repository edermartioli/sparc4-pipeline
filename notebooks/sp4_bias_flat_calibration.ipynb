{
 "cells": [
  {
   "attachments": {},
   "cell_type": "markdown",
   "metadata": {
    "id": "JtWbwmhSXmd-"
   },
   "source": [
    "## SPARC-4 mini-pipeline tools\n",
    "***\n",
    "# <font color='darkblue'>Bias and Flat-field calibrations</font> \n",
    "\n",
    "This notebook shows an example for combining a series of bias and flat exposures into the master calibration product of SPARC4 pipeline.\n",
    "\n",
    "* Eder Martioli, LNA 20 Jun 2023"
   ]
  },
  {
   "cell_type": "code",
   "execution_count": null,
   "metadata": {
    "id": "P2-Lw_FAXmeA"
   },
   "outputs": [],
   "source": [
    "import sparc4.product_plots as s4plt\n",
    "import sparc4.pipeline_lib as s4pipelib\n",
    "import sparc4.db as s4db"
   ]
  },
  {
   "attachments": {},
   "cell_type": "markdown",
   "metadata": {},
   "source": [
    "## User inputs and database handling"
   ]
  },
  {
   "cell_type": "code",
   "execution_count": null,
   "metadata": {},
   "outputs": [],
   "source": [
    "# set night directory name\n",
    "NIGHTDIR = '20230503'\n",
    "# set raw data root directory\n",
    "DATADIR =  \"/Volumes/Samsung_T5/Data/SPARC4/minidata/\"\n",
    "# set reduced data root directory\n",
    "REDUCEDDIR = \"/Volumes/Samsung_T5/Data/SPARC4/minidata/reduced/\"\n",
    "\n",
    "# set SPARC4 channel\n",
    "CHANNEL = 4  # 1, 2, 3 or 4\n",
    "\n",
    "# whether or not to force reduction even if product already exists\n",
    "FORCE = False\n",
    "\n",
    "# get SPARC4 pipeline parameters\n",
    "p = s4pipelib.init_s4_p(datadir=DATADIR,\n",
    "                        reducedir=REDUCEDDIR,\n",
    "                        nightdir=NIGHTDIR,\n",
    "                        channels=\"{}\".format(CHANNEL),\n",
    "                        print_report=False)\n",
    "\n",
    "# create database of raw data for reduction\n",
    "db = s4db.create_db_from_observations(p['filelists'][CHANNEL-1], \n",
    "                                      p['DB_KEYS'], \n",
    "                                      include_img_statistics=p[\"INCLUDE_IMG_STATISTICS\"], \n",
    "                                      include_only_fullframe=p[\"FULL_FRAMES_ONLY\"], \n",
    "                                      output=p['s4db_files'][CHANNEL-1])\n",
    "\n",
    "# detect all detector modes\n",
    "detector_modes = s4db.get_detector_modes_observed(db, \n",
    "                                                  science_only=True,\n",
    "                                                  detector_keys=p[\"DETECTOR_MODE_KEYWORDS\"])\n",
    "# get first valid key\n",
    "mode_key = next(iter(detector_modes))"
   ]
  },
  {
   "attachments": {},
   "cell_type": "markdown",
   "metadata": {},
   "source": [
    "## Define input list and output product file names"
   ]
  },
  {
   "cell_type": "code",
   "execution_count": null,
   "metadata": {},
   "outputs": [],
   "source": [
    "# create a list of zeros for current detector mode\n",
    "zero_list = s4db.get_file_list(db, \n",
    "                               obstype=p['BIAS_OBSTYPE_KEYVALUE'], \n",
    "                               detector_mode=detector_modes[mode_key])\n",
    "\n",
    "# define file name of master bias \n",
    "master_zero = \"{}/{}_s4c{}{}_MasterZero.fits\".format(p['reduce_directories'][CHANNEL-1],\n",
    "                                                     NIGHTDIR,\n",
    "                                                     p['CHANNELS'][CHANNEL-1],\n",
    "                                                     mode_key)\n",
    "\n",
    "# create a list of flats for current detector mode\n",
    "flat_list = s4db.get_file_list(db, \n",
    "                               obstype=p['FLAT_OBSTYPE_KEYVALUE'], \n",
    "                               detector_mode=detector_modes[mode_key])\n",
    "\n",
    "# define file name of master flat\n",
    "master_flat = \"{}/{}_s4c{}{}_MasterDomeFlat.fits\".format(p['reduce_directories'][CHANNEL-1],\n",
    "                                                         NIGHTDIR,\n",
    "                                                         p['CHANNELS'][CHANNEL-1],\n",
    "                                                         mode_key)"
   ]
  },
  {
   "attachments": {},
   "cell_type": "markdown",
   "metadata": {},
   "source": [
    "# Run master calibration"
   ]
  },
  {
   "cell_type": "code",
   "execution_count": null,
   "metadata": {},
   "outputs": [],
   "source": [
    "# calculate master bias and save product to FITS\n",
    "p = s4pipelib.run_master_calibration(p, \n",
    "                                     inputlist=zero_list, \n",
    "                                     output=master_zero, \n",
    "                                     obstype='bias', \n",
    "                                     data_dir=DATADIR, \n",
    "                                     reduce_dir=p['reduce_directories'][CHANNEL-1], \n",
    "                                     force=FORCE)"
   ]
  },
  {
   "cell_type": "code",
   "execution_count": null,
   "metadata": {},
   "outputs": [],
   "source": [
    "# calculate master dome flat and save product to FITS\n",
    "p = s4pipelib.run_master_calibration(p, \n",
    "                                     inputlist=flat_list, \n",
    "                                     output=master_flat, \n",
    "                                     obstype='flat', \n",
    "                                     data_dir=DATADIR, \n",
    "                                     reduce_dir=p['reduce_directories'][CHANNEL-1], \n",
    "                                     normalize=True, \n",
    "                                     force=FORCE)"
   ]
  },
  {
   "attachments": {},
   "cell_type": "markdown",
   "metadata": {},
   "source": [
    "# Plot results"
   ]
  },
  {
   "cell_type": "code",
   "execution_count": null,
   "metadata": {},
   "outputs": [],
   "source": [
    "# plot master bias\n",
    "s4plt.plot_cal_frame(master_zero, \n",
    "                     percentile=99.5, \n",
    "                     combine_rows=True, \n",
    "                     combine_cols=True)"
   ]
  },
  {
   "cell_type": "code",
   "execution_count": null,
   "metadata": {},
   "outputs": [],
   "source": [
    "# plot master flat\n",
    "s4plt.plot_cal_frame(master_flat, \n",
    "                     percentile=99.5, \n",
    "                     xcut=512, \n",
    "                     ycut=512)"
   ]
  },
  {
   "cell_type": "code",
   "execution_count": null,
   "metadata": {},
   "outputs": [],
   "source": []
  }
 ],
 "metadata": {
  "colab": {
   "provenance": []
  },
  "kernelspec": {
   "display_name": "Python 3",
   "language": "python",
   "name": "python3"
  },
  "language_info": {
   "codemirror_mode": {
    "name": "ipython",
    "version": 3
   },
   "file_extension": ".py",
   "mimetype": "text/x-python",
   "name": "python",
   "nbconvert_exporter": "python",
   "pygments_lexer": "ipython3",
   "version": "3.11.3"
  }
 },
 "nbformat": 4,
 "nbformat_minor": 1
}

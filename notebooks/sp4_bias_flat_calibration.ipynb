{
 "cells": [
  {
   "cell_type": "markdown",
   "metadata": {
    "id": "JtWbwmhSXmd-"
   },
   "source": [
    "## SPARC-4 mini-pipeline tools\n",
    "# Bias and Flat-field calibrations\n",
    "\n",
    "This notebook shows an example for combining a series of bias and flat exposures into the master calibration product of SPARC4 pipeline.\n",
    "\n",
    "* Eder Martioli, LNA 10 Jun 2023"
   ]
  },
  {
   "cell_type": "code",
   "execution_count": null,
   "metadata": {
    "id": "P2-Lw_FAXmeA"
   },
   "outputs": [],
   "source": [
    "import os,sys\n",
    "path_parent = os.path.dirname(os.getcwd())\n",
    "# path_parent = \"/Volumes/Samsung_T5/sparc4-pipeline/\"\n",
    "sys.path.append(path_parent)\n",
    "import sparc4_product_plots as s4plt\n",
    "import sparc4_pipeline_lib as s4pipelib\n",
    "import sparc4_params"
   ]
  },
  {
   "cell_type": "markdown",
   "metadata": {},
   "source": [
    "## User inputs"
   ]
  },
  {
   "cell_type": "code",
   "execution_count": null,
   "metadata": {},
   "outputs": [],
   "source": [
    "# set night directory name\n",
    "NIGHTDIR = '20230503'\n",
    "# set raw data root directory\n",
    "DATADIR =  \"/Volumes/Samsung_T5/Data/SPARC4/minidata/\"\n",
    "# set reduced data root directory\n",
    "REDUCEDDIR = \"/Volumes/Samsung_T5/Data/SPARC4/minidata/reduced/\"\n",
    "\n",
    "# set SPARC4 channel\n",
    "CHANNEL = 3  # 1, 2, 3 or 4\n",
    "\n",
    "# whether or not to force reduction even if product already exists\n",
    "FORCE = False\n",
    "\n",
    "# get SPARC4 pipeline parameters\n",
    "p = sparc4_params.init_s4_p(datadir=DATADIR,\n",
    "                            reducedir=REDUCEDDIR,\n",
    "                            nightdir=NIGHTDIR,\n",
    "                            channels=\"{}\".format(CHANNEL),\n",
    "                            print_report=True)"
   ]
  },
  {
   "cell_type": "markdown",
   "metadata": {},
   "source": [
    "## Define output product file names"
   ]
  },
  {
   "cell_type": "code",
   "execution_count": null,
   "metadata": {},
   "outputs": [],
   "source": [
    "# set master bias product file name\n",
    "p[\"master_bias\"] = \"{}/{}_s4c{}_MasterZero.fits\".format(p['reduce_directories'][CHANNEL-1],NIGHTDIR,CHANNEL)\n",
    "# set master flat product file name\n",
    "p[\"master_flat\"] = \"{}/{}_s4c{}_MasterDomeFlat.fits\".format(p['reduce_directories'][CHANNEL-1],NIGHTDIR,CHANNEL)"
   ]
  },
  {
   "cell_type": "markdown",
   "metadata": {},
   "source": [
    "# Run master calibration"
   ]
  },
  {
   "cell_type": "code",
   "execution_count": null,
   "metadata": {},
   "outputs": [],
   "source": [
    "# calculate master bias and save product to FITS\n",
    "p = s4pipelib.run_master_calibration(p, \n",
    "                                     inputlist=p['zeros'][CHANNEL-1], \n",
    "                                     output=p[\"master_bias\"], \n",
    "                                     obstype='bias', \n",
    "                                     data_dir=DATADIR, \n",
    "                                     reduce_dir=p['reduce_directories'][CHANNEL-1], \n",
    "                                     force=FORCE)"
   ]
  },
  {
   "cell_type": "code",
   "execution_count": null,
   "metadata": {},
   "outputs": [],
   "source": [
    "# calculate master dome flat and save product to FITS\n",
    "p = s4pipelib.run_master_calibration(p, \n",
    "                                     inputlist=p['dflats'][CHANNEL-1], \n",
    "                                     output=p[\"master_flat\"], \n",
    "                                     obstype='flat', \n",
    "                                     data_dir=DATADIR, \n",
    "                                     reduce_dir=p['reduce_directories'][CHANNEL-1], \n",
    "                                     normalize=True, \n",
    "                                     force=FORCE)"
   ]
  },
  {
   "cell_type": "markdown",
   "metadata": {},
   "source": [
    "# Produce plots"
   ]
  },
  {
   "cell_type": "code",
   "execution_count": null,
   "metadata": {},
   "outputs": [],
   "source": [
    "# plot master bias\n",
    "s4plt.plot_cal_frame(p[\"master_bias\"], percentile=99.5, combine_rows=True, combine_cols=True)"
   ]
  },
  {
   "cell_type": "code",
   "execution_count": null,
   "metadata": {},
   "outputs": [],
   "source": [
    "# plot master flat\n",
    "s4plt.plot_cal_frame(p[\"master_flat\"], percentile=99.5, xcut=512, ycut=512)"
   ]
  },
  {
   "cell_type": "code",
   "execution_count": null,
   "metadata": {},
   "outputs": [],
   "source": []
  }
 ],
 "metadata": {
  "colab": {
   "provenance": []
  },
  "kernelspec": {
   "display_name": "Python 3",
   "language": "python",
   "name": "python3"
  },
  "language_info": {
   "codemirror_mode": {
    "name": "ipython",
    "version": 3
   },
   "file_extension": ".py",
   "mimetype": "text/x-python",
   "name": "python",
   "nbconvert_exporter": "python",
   "pygments_lexer": "ipython3",
   "version": "3.7.3"
  }
 },
 "nbformat": 4,
 "nbformat_minor": 1
}

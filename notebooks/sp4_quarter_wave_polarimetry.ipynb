{
 "cells": [
  {
   "cell_type": "markdown",
   "metadata": {
    "id": "JtWbwmhSXmd-"
   },
   "source": [
    "# SPARC-4 mini-pipeline tools\n",
    "## Quarter-wave polarimetry\n",
    "\n",
    "This notebook shows an example for obtaining a polarimetric analysis of a set of observations using the SPARC4 instrument in polarimetric mode with a quarter-wave rotating plate. It takes as input a series of science imaging products obtained with the SPARC4 pipeline.\n",
    "\n",
    "* Eder Martioli, LNA 16 Feb 2023"
   ]
  },
  {
   "cell_type": "code",
   "execution_count": 1,
   "metadata": {
    "id": "P2-Lw_FAXmeA"
   },
   "outputs": [],
   "source": [
    "import os,sys\n",
    "path_parent = os.path.dirname(os.getcwd())\n",
    "# path_parent = \"/Volumes/Samsung_T5/sparc4-pipeline/\"\n",
    "sys.path.append(path_parent) \n",
    "import astropy.io.fits as fits\n",
    "import matplotlib.pyplot as plt\n",
    "import numpy as np\n",
    "import glob\n",
    "\n",
    "import sparc4_product_plots as s4plt\n",
    "import sparc4_pipeline_lib as s4pipelib\n",
    "import sparc4_utils as s4utils\n",
    "import sparc4_params"
   ]
  },
  {
   "cell_type": "markdown",
   "metadata": {},
   "source": [
    "### User inputs"
   ]
  },
  {
   "cell_type": "code",
   "execution_count": 2,
   "metadata": {},
   "outputs": [],
   "source": [
    "# set night directory name\n",
    "NIGHTDIR = '20221115'\n",
    "# set SPARC4 channel\n",
    "CHANNEL = 3  # 1, 2, 3 or 4\n",
    "# set an object ID matching the ID in the image header keyword 'OBJECT'\n",
    "OBJECTID = \"NGC20241\"\n",
    "# whether or not to force reduction even if product already exists\n",
    "FORCE = True"
   ]
  },
  {
   "cell_type": "markdown",
   "metadata": {},
   "source": [
    "### Preparatory procedures\n",
    "Below are some preparatory procedures for defining data directories and product file names."
   ]
  },
  {
   "cell_type": "code",
   "execution_count": 4,
   "metadata": {},
   "outputs": [],
   "source": [
    "# get SPARC4 pipeline parameters\n",
    "p = sparc4_params.load_sparc4_parameters()\n",
    "# set raw data root directory (where raw data will be searched)\n",
    "p['ROOTDATADIR'] = \"/Volumes/Samsung_T5/Data/SPARC4/comissioning_nov22/\"\n",
    "# set reduction directory name\n",
    "p['ROOTREDUCEDIR'] = '/Volumes/Samsung_T5/Data/SPARC4/comissioning_nov22/reduced'\n",
    "# if reduced dir doesn't exist create one\n",
    "if not os.path.exists(p['ROOTREDUCEDIR']) :\n",
    "    os.mkdir(p['ROOTREDUCEDIR'])\n",
    "    \n",
    "# identify files for reduction\n",
    "p = s4utils.identify_files(p, NIGHTDIR, print_report=False)    \n",
    "\n",
    "# set full paths for a given night and channel\n",
    "data_dir = p['data_directories'][CHANNEL-1]\n",
    "ch_reduce_dir = '{}/sparc4acs{}/'.format(p['ROOTREDUCEDIR'],CHANNEL)\n",
    "reduce_dir = '{}/sparc4acs{}/{}/'.format(p['ROOTREDUCEDIR'],CHANNEL,NIGHTDIR)"
   ]
  }
 ],
 "metadata": {
  "colab": {
   "provenance": []
  },
  "kernelspec": {
   "display_name": "Python 3 (ipykernel)",
   "language": "python",
   "name": "python3"
  },
  "language_info": {
   "codemirror_mode": {
    "name": "ipython",
    "version": 3
   },
   "file_extension": ".py",
   "mimetype": "text/x-python",
   "name": "python",
   "nbconvert_exporter": "python",
   "pygments_lexer": "ipython3",
   "version": "3.9.7"
  }
 },
 "nbformat": 4,
 "nbformat_minor": 1
}

{
 "cells": [
  {
   "cell_type": "markdown",
   "metadata": {
    "id": "JtWbwmhSXmd-"
   },
   "source": [
    "# SPARC-4 Astrometry\n",
    "***\n",
    "\n",
    "This notebook shows a few examples on how to use the sparc4-pipeline tools to obtain an astrometric solution of a field and how to check the astrometric solution in the SPARC4 data products.\n",
    "\n",
    "* Eder Martioli, LNA 13 Mar 2024"
   ]
  },
  {
   "cell_type": "code",
   "execution_count": 12,
   "metadata": {},
   "outputs": [],
   "source": [
    "import astropy.io.fits as fits\n",
    "import matplotlib.pyplot as plt\n",
    "import numpy as np\n",
    "\n",
    "from astropy import units as u\n",
    "from astropy.coordinates import SkyCoord\n",
    "from astropy.wcs.utils import proj_plane_pixel_scales\n",
    "from astropy.wcs import WCS\n",
    "from astropy.stats import sigma_clipped_stats\n",
    "from astropy.wcs.utils import fit_wcs_from_points\n",
    "\n",
    "import photutils\n",
    "\n",
    "import twirl\n",
    "from aafitrans import find_transform\n",
    "\n",
    "from sparc4.pipeline_lib import set_wcs_from_astrom_ref_image, astrometry_from_existing_wcs\n",
    "from sparc4.utils import check_astrometry"
   ]
  },
  {
   "cell_type": "markdown",
   "metadata": {},
   "source": [
    "# 1. Check astrometric solution in a \"stack\" or \"proc\" FITS product"
   ]
  },
  {
   "cell_type": "code",
   "execution_count": 13,
   "metadata": {},
   "outputs": [
    {
     "ename": "RemoteDisconnected",
     "evalue": "Remote end closed connection without response",
     "output_type": "error",
     "traceback": [
      "\u001b[0;31m---------------------------------------------------------------------------\u001b[0m",
      "\u001b[0;31mRemoteDisconnected\u001b[0m                        Traceback (most recent call last)",
      "Cell \u001b[0;32mIn[13], line 9\u001b[0m\n\u001b[1;32m      6\u001b[0m reduced_data_dir \u001b[38;5;241m=\u001b[39m \u001b[38;5;124m'\u001b[39m\u001b[38;5;124m/Users/eder/Data/SPARC4/minidata/reduced/sparc4acs4/20230606/\u001b[39m\u001b[38;5;124m'\u001b[39m\n\u001b[1;32m      7\u001b[0m filename \u001b[38;5;241m=\u001b[39m reduced_data_dir \u001b[38;5;241m+\u001b[39m \u001b[38;5;124m'\u001b[39m\u001b[38;5;124m20230606_s4c4_hd111579_POLAR_L2_stack.fits\u001b[39m\u001b[38;5;124m'\u001b[39m\n\u001b[0;32m----> 9\u001b[0m check_astrometry(filename, nsources_to_plot\u001b[38;5;241m=\u001b[39m\u001b[38;5;241m100\u001b[39m)\n",
      "File \u001b[0;32m~/anaconda3/lib/python3.11/site-packages/sparc4/utils.py:646\u001b[0m, in \u001b[0;36mcheck_astrometry\u001b[0;34m(filename, fov_search_factor, apply_sparsify_filter, sparsify_factor, nsources_to_plot)\u001b[0m\n\u001b[1;32m    643\u001b[0m center \u001b[38;5;241m=\u001b[39m w\u001b[38;5;241m.\u001b[39mpixel_to_world(\u001b[38;5;241m*\u001b[39mnp\u001b[38;5;241m.\u001b[39marray(img_data\u001b[38;5;241m.\u001b[39mshape) \u001b[38;5;241m/\u001b[39m \u001b[38;5;241m2\u001b[39m)\n\u001b[1;32m    645\u001b[0m \u001b[38;5;66;03m# get RAs and Decs from Gaia catalog for a sky area of 2 x FoV\u001b[39;00m\n\u001b[0;32m--> 646\u001b[0m gaia_sources_skycoords \u001b[38;5;241m=\u001b[39m twirl\u001b[38;5;241m.\u001b[39mgaia_radecs(center, fov_search_factor \u001b[38;5;241m*\u001b[39m fov)\n\u001b[1;32m    648\u001b[0m \u001b[38;5;66;03m# we only keep stars 0.01 degree apart from each other\u001b[39;00m\n\u001b[1;32m    649\u001b[0m \u001b[38;5;28;01mif\u001b[39;00m apply_sparsify_filter :\n",
      "File \u001b[0;32m~/anaconda3/lib/python3.11/site-packages/twirl/__init__.py:141\u001b[0m, in \u001b[0;36mgaia_radecs\u001b[0;34m(center, fov, limit, circular)\u001b[0m\n\u001b[1;32m    138\u001b[0m fields \u001b[38;5;241m=\u001b[39m \u001b[38;5;124m\"\u001b[39m\u001b[38;5;124mra, dec\u001b[39m\u001b[38;5;124m\"\u001b[39m\n\u001b[1;32m    140\u001b[0m \u001b[38;5;28;01mif\u001b[39;00m circular:\n\u001b[0;32m--> 141\u001b[0m     job \u001b[38;5;241m=\u001b[39m Gaia\u001b[38;5;241m.\u001b[39mlaunch_job(\n\u001b[1;32m    142\u001b[0m         \u001b[38;5;124mf\u001b[39m\u001b[38;5;124m\"\u001b[39m\u001b[38;5;124mselect top \u001b[39m\u001b[38;5;132;01m{\u001b[39;00mlimit\u001b[38;5;132;01m}\u001b[39;00m\u001b[38;5;124m \u001b[39m\u001b[38;5;132;01m{\u001b[39;00mfields\u001b[38;5;132;01m}\u001b[39;00m\u001b[38;5;124m from gaiadr2.gaia_source where \u001b[39m\u001b[38;5;124m\"\u001b[39m\n\u001b[1;32m    143\u001b[0m         \u001b[38;5;124m\"\u001b[39m\u001b[38;5;124m1=CONTAINS(\u001b[39m\u001b[38;5;124m\"\u001b[39m\n\u001b[1;32m    144\u001b[0m         \u001b[38;5;124mf\u001b[39m\u001b[38;5;124m\"\u001b[39m\u001b[38;5;124mPOINT(\u001b[39m\u001b[38;5;124m'\u001b[39m\u001b[38;5;124mICRS\u001b[39m\u001b[38;5;124m'\u001b[39m\u001b[38;5;124m, \u001b[39m\u001b[38;5;132;01m{\u001b[39;00mra\u001b[38;5;132;01m}\u001b[39;00m\u001b[38;5;124m, \u001b[39m\u001b[38;5;132;01m{\u001b[39;00mdec\u001b[38;5;132;01m}\u001b[39;00m\u001b[38;5;124m), \u001b[39m\u001b[38;5;124m\"\u001b[39m\n\u001b[1;32m    145\u001b[0m         \u001b[38;5;124mf\u001b[39m\u001b[38;5;124m\"\u001b[39m\u001b[38;5;124mCIRCLE(\u001b[39m\u001b[38;5;124m'\u001b[39m\u001b[38;5;124mICRS\u001b[39m\u001b[38;5;124m'\u001b[39m\u001b[38;5;124m,ra, dec, \u001b[39m\u001b[38;5;132;01m{\u001b[39;00mradius\u001b[38;5;132;01m}\u001b[39;00m\u001b[38;5;124m))\u001b[39m\u001b[38;5;124m\"\u001b[39m\n\u001b[1;32m    146\u001b[0m         \u001b[38;5;124m\"\u001b[39m\u001b[38;5;124morder by phot_g_mean_mag\u001b[39m\u001b[38;5;124m\"\u001b[39m\n\u001b[1;32m    147\u001b[0m     )\n\u001b[1;32m    148\u001b[0m \u001b[38;5;28;01melse\u001b[39;00m:\n\u001b[1;32m    149\u001b[0m     job \u001b[38;5;241m=\u001b[39m Gaia\u001b[38;5;241m.\u001b[39mlaunch_job(\n\u001b[1;32m    150\u001b[0m         \u001b[38;5;124mf\u001b[39m\u001b[38;5;124m\"\u001b[39m\u001b[38;5;124mselect top \u001b[39m\u001b[38;5;132;01m{\u001b[39;00mlimit\u001b[38;5;132;01m}\u001b[39;00m\u001b[38;5;124m \u001b[39m\u001b[38;5;132;01m{\u001b[39;00mfields\u001b[38;5;132;01m}\u001b[39;00m\u001b[38;5;124m from gaiadr2.gaia_source where \u001b[39m\u001b[38;5;124m\"\u001b[39m\n\u001b[1;32m    151\u001b[0m         \u001b[38;5;124mf\u001b[39m\u001b[38;5;124m\"\u001b[39m\u001b[38;5;124mra BETWEEN \u001b[39m\u001b[38;5;132;01m{\u001b[39;00mra\u001b[38;5;241m-\u001b[39mra_fov\u001b[38;5;241m/\u001b[39m\u001b[38;5;241m2\u001b[39m\u001b[38;5;132;01m}\u001b[39;00m\u001b[38;5;124m AND \u001b[39m\u001b[38;5;132;01m{\u001b[39;00mra\u001b[38;5;241m+\u001b[39mra_fov\u001b[38;5;241m/\u001b[39m\u001b[38;5;241m2\u001b[39m\u001b[38;5;132;01m}\u001b[39;00m\u001b[38;5;124m AND \u001b[39m\u001b[38;5;124m\"\u001b[39m\n\u001b[1;32m    152\u001b[0m         \u001b[38;5;124mf\u001b[39m\u001b[38;5;124m\"\u001b[39m\u001b[38;5;124mdec BETWEEN \u001b[39m\u001b[38;5;132;01m{\u001b[39;00mdec\u001b[38;5;241m-\u001b[39mdec_fov\u001b[38;5;241m/\u001b[39m\u001b[38;5;241m2\u001b[39m\u001b[38;5;132;01m}\u001b[39;00m\u001b[38;5;124m AND \u001b[39m\u001b[38;5;132;01m{\u001b[39;00mdec\u001b[38;5;241m+\u001b[39mdec_fov\u001b[38;5;241m/\u001b[39m\u001b[38;5;241m2\u001b[39m\u001b[38;5;132;01m}\u001b[39;00m\u001b[38;5;124m \u001b[39m\u001b[38;5;124m\"\u001b[39m\n\u001b[1;32m    153\u001b[0m         \u001b[38;5;124m\"\u001b[39m\u001b[38;5;124morder by phot_g_mean_mag\u001b[39m\u001b[38;5;124m\"\u001b[39m\n\u001b[1;32m    154\u001b[0m     )\n",
      "File \u001b[0;32m~/anaconda3/lib/python3.11/site-packages/astroquery/gaia/core.py:854\u001b[0m, in \u001b[0;36mGaiaClass.launch_job\u001b[0;34m(self, query, name, output_file, output_format, verbose, dump_to_file, upload_resource, upload_table_name)\u001b[0m\n\u001b[1;32m    819\u001b[0m \u001b[38;5;28;01mdef\u001b[39;00m \u001b[38;5;21mlaunch_job\u001b[39m(\u001b[38;5;28mself\u001b[39m, query, name\u001b[38;5;241m=\u001b[39m\u001b[38;5;28;01mNone\u001b[39;00m, output_file\u001b[38;5;241m=\u001b[39m\u001b[38;5;28;01mNone\u001b[39;00m,\n\u001b[1;32m    820\u001b[0m                output_format\u001b[38;5;241m=\u001b[39m\u001b[38;5;124m\"\u001b[39m\u001b[38;5;124mvotable\u001b[39m\u001b[38;5;124m\"\u001b[39m, verbose\u001b[38;5;241m=\u001b[39m\u001b[38;5;28;01mFalse\u001b[39;00m,\n\u001b[1;32m    821\u001b[0m                dump_to_file\u001b[38;5;241m=\u001b[39m\u001b[38;5;28;01mFalse\u001b[39;00m, upload_resource\u001b[38;5;241m=\u001b[39m\u001b[38;5;28;01mNone\u001b[39;00m,\n\u001b[1;32m    822\u001b[0m                upload_table_name\u001b[38;5;241m=\u001b[39m\u001b[38;5;28;01mNone\u001b[39;00m):\n\u001b[1;32m    823\u001b[0m \u001b[38;5;250m    \u001b[39m\u001b[38;5;124;03m\"\"\"Launches a synchronous job\u001b[39;00m\n\u001b[1;32m    824\u001b[0m \n\u001b[1;32m    825\u001b[0m \u001b[38;5;124;03m    Parameters\u001b[39;00m\n\u001b[0;32m   (...)\u001b[0m\n\u001b[1;32m    851\u001b[0m \u001b[38;5;124;03m    A Job object\u001b[39;00m\n\u001b[1;32m    852\u001b[0m \u001b[38;5;124;03m    \"\"\"\u001b[39;00m\n\u001b[0;32m--> 854\u001b[0m     \u001b[38;5;28;01mreturn\u001b[39;00m TapPlus\u001b[38;5;241m.\u001b[39mlaunch_job(\u001b[38;5;28mself\u001b[39m, query\u001b[38;5;241m=\u001b[39mquery, name\u001b[38;5;241m=\u001b[39mname,\n\u001b[1;32m    855\u001b[0m                               output_file\u001b[38;5;241m=\u001b[39moutput_file,\n\u001b[1;32m    856\u001b[0m                               output_format\u001b[38;5;241m=\u001b[39moutput_format,\n\u001b[1;32m    857\u001b[0m                               verbose\u001b[38;5;241m=\u001b[39mverbose,\n\u001b[1;32m    858\u001b[0m                               dump_to_file\u001b[38;5;241m=\u001b[39mdump_to_file,\n\u001b[1;32m    859\u001b[0m                               upload_resource\u001b[38;5;241m=\u001b[39mupload_resource,\n\u001b[1;32m    860\u001b[0m                               upload_table_name\u001b[38;5;241m=\u001b[39mupload_table_name)\n",
      "File \u001b[0;32m~/anaconda3/lib/python3.11/site-packages/astroquery/utils/tap/core.py:285\u001b[0m, in \u001b[0;36mTap.launch_job\u001b[0;34m(self, query, name, output_file, output_format, verbose, dump_to_file, upload_resource, upload_table_name)\u001b[0m\n\u001b[1;32m    277\u001b[0m     response \u001b[38;5;241m=\u001b[39m \u001b[38;5;28mself\u001b[39m\u001b[38;5;241m.\u001b[39m__launchJobMultipart(query,\n\u001b[1;32m    278\u001b[0m                                          upload_resource,\n\u001b[1;32m    279\u001b[0m                                          upload_table_name,\n\u001b[0;32m   (...)\u001b[0m\n\u001b[1;32m    282\u001b[0m                                          verbose,\n\u001b[1;32m    283\u001b[0m                                          name)\n\u001b[1;32m    284\u001b[0m \u001b[38;5;28;01melse\u001b[39;00m:\n\u001b[0;32m--> 285\u001b[0m     response \u001b[38;5;241m=\u001b[39m \u001b[38;5;28mself\u001b[39m\u001b[38;5;241m.\u001b[39m__launchJob(query,\n\u001b[1;32m    286\u001b[0m                                 output_format,\n\u001b[1;32m    287\u001b[0m                                 \u001b[38;5;124m\"\u001b[39m\u001b[38;5;124msync\u001b[39m\u001b[38;5;124m\"\u001b[39m,\n\u001b[1;32m    288\u001b[0m                                 verbose,\n\u001b[1;32m    289\u001b[0m                                 name)\n\u001b[1;32m    290\u001b[0m \u001b[38;5;66;03m# handle redirection\u001b[39;00m\n\u001b[1;32m    291\u001b[0m \u001b[38;5;28;01mif\u001b[39;00m response\u001b[38;5;241m.\u001b[39mstatus \u001b[38;5;241m==\u001b[39m \u001b[38;5;241m303\u001b[39m:\n\u001b[1;32m    292\u001b[0m     \u001b[38;5;66;03m# redirection\u001b[39;00m\n",
      "File \u001b[0;32m~/anaconda3/lib/python3.11/site-packages/astroquery/utils/tap/core.py:625\u001b[0m, in \u001b[0;36mTap.__launchJob\u001b[0;34m(self, query, outputFormat, context, verbose, name, autorun)\u001b[0m\n\u001b[1;32m    623\u001b[0m     args[\u001b[38;5;124m'\u001b[39m\u001b[38;5;124mjobname\u001b[39m\u001b[38;5;124m'\u001b[39m] \u001b[38;5;241m=\u001b[39m name\n\u001b[1;32m    624\u001b[0m data \u001b[38;5;241m=\u001b[39m \u001b[38;5;28mself\u001b[39m\u001b[38;5;241m.\u001b[39m__connHandler\u001b[38;5;241m.\u001b[39murl_encode(args)\n\u001b[0;32m--> 625\u001b[0m response \u001b[38;5;241m=\u001b[39m \u001b[38;5;28mself\u001b[39m\u001b[38;5;241m.\u001b[39m__connHandler\u001b[38;5;241m.\u001b[39mexecute_tappost(subcontext\u001b[38;5;241m=\u001b[39mcontext,\n\u001b[1;32m    626\u001b[0m                                               data\u001b[38;5;241m=\u001b[39mdata,\n\u001b[1;32m    627\u001b[0m                                               verbose\u001b[38;5;241m=\u001b[39mverbose)\n\u001b[1;32m    628\u001b[0m \u001b[38;5;28;01mif\u001b[39;00m verbose:\n\u001b[1;32m    629\u001b[0m     \u001b[38;5;28mprint\u001b[39m(response\u001b[38;5;241m.\u001b[39mstatus, response\u001b[38;5;241m.\u001b[39mreason)\n",
      "File \u001b[0;32m~/anaconda3/lib/python3.11/site-packages/astroquery/utils/tap/conn/tapconn.py:273\u001b[0m, in \u001b[0;36mTapConn.execute_tappost\u001b[0;34m(self, subcontext, data, content_type, verbose)\u001b[0m\n\u001b[1;32m    252\u001b[0m \u001b[38;5;250m\u001b[39m\u001b[38;5;124;03m\"\"\"Executes a POST request\u001b[39;00m\n\u001b[1;32m    253\u001b[0m \u001b[38;5;124;03mThe connection is done through HTTP or HTTPS depending on the login\u001b[39;00m\n\u001b[1;32m    254\u001b[0m \u001b[38;5;124;03mstatus (logged in -> HTTPS)\u001b[39;00m\n\u001b[0;32m   (...)\u001b[0m\n\u001b[1;32m    270\u001b[0m \u001b[38;5;124;03mAn HTTP(s) response object\u001b[39;00m\n\u001b[1;32m    271\u001b[0m \u001b[38;5;124;03m\"\"\"\u001b[39;00m\n\u001b[1;32m    272\u001b[0m context \u001b[38;5;241m=\u001b[39m \u001b[38;5;28mself\u001b[39m\u001b[38;5;241m.\u001b[39m__get_tap_context(subcontext)\n\u001b[0;32m--> 273\u001b[0m \u001b[38;5;28;01mreturn\u001b[39;00m \u001b[38;5;28mself\u001b[39m\u001b[38;5;241m.\u001b[39m__execute_post(context, data, content_type, verbose)\n",
      "File \u001b[0;32m~/anaconda3/lib/python3.11/site-packages/astroquery/utils/tap/conn/tapconn.py:427\u001b[0m, in \u001b[0;36mTapConn.__execute_post\u001b[0;34m(self, context, data, content_type, verbose)\u001b[0m\n\u001b[1;32m    425\u001b[0m \u001b[38;5;28mself\u001b[39m\u001b[38;5;241m.\u001b[39m__postHeaders[\u001b[38;5;124m\"\u001b[39m\u001b[38;5;124mContent-type\u001b[39m\u001b[38;5;124m\"\u001b[39m] \u001b[38;5;241m=\u001b[39m content_type\n\u001b[1;32m    426\u001b[0m conn\u001b[38;5;241m.\u001b[39mrequest(\u001b[38;5;124m\"\u001b[39m\u001b[38;5;124mPOST\u001b[39m\u001b[38;5;124m\"\u001b[39m, context, data, \u001b[38;5;28mself\u001b[39m\u001b[38;5;241m.\u001b[39m__postHeaders)\n\u001b[0;32m--> 427\u001b[0m response \u001b[38;5;241m=\u001b[39m conn\u001b[38;5;241m.\u001b[39mgetresponse()\n\u001b[1;32m    428\u001b[0m \u001b[38;5;28mself\u001b[39m\u001b[38;5;241m.\u001b[39m__currentReason \u001b[38;5;241m=\u001b[39m response\u001b[38;5;241m.\u001b[39mreason\n\u001b[1;32m    429\u001b[0m \u001b[38;5;28mself\u001b[39m\u001b[38;5;241m.\u001b[39m__currentStatus \u001b[38;5;241m=\u001b[39m response\u001b[38;5;241m.\u001b[39mstatus\n",
      "File \u001b[0;32m~/anaconda3/lib/python3.11/http/client.py:1378\u001b[0m, in \u001b[0;36mHTTPConnection.getresponse\u001b[0;34m(self)\u001b[0m\n\u001b[1;32m   1376\u001b[0m \u001b[38;5;28;01mtry\u001b[39;00m:\n\u001b[1;32m   1377\u001b[0m     \u001b[38;5;28;01mtry\u001b[39;00m:\n\u001b[0;32m-> 1378\u001b[0m         response\u001b[38;5;241m.\u001b[39mbegin()\n\u001b[1;32m   1379\u001b[0m     \u001b[38;5;28;01mexcept\u001b[39;00m \u001b[38;5;167;01mConnectionError\u001b[39;00m:\n\u001b[1;32m   1380\u001b[0m         \u001b[38;5;28mself\u001b[39m\u001b[38;5;241m.\u001b[39mclose()\n",
      "File \u001b[0;32m~/anaconda3/lib/python3.11/http/client.py:318\u001b[0m, in \u001b[0;36mHTTPResponse.begin\u001b[0;34m(self)\u001b[0m\n\u001b[1;32m    316\u001b[0m \u001b[38;5;66;03m# read until we get a non-100 response\u001b[39;00m\n\u001b[1;32m    317\u001b[0m \u001b[38;5;28;01mwhile\u001b[39;00m \u001b[38;5;28;01mTrue\u001b[39;00m:\n\u001b[0;32m--> 318\u001b[0m     version, status, reason \u001b[38;5;241m=\u001b[39m \u001b[38;5;28mself\u001b[39m\u001b[38;5;241m.\u001b[39m_read_status()\n\u001b[1;32m    319\u001b[0m     \u001b[38;5;28;01mif\u001b[39;00m status \u001b[38;5;241m!=\u001b[39m CONTINUE:\n\u001b[1;32m    320\u001b[0m         \u001b[38;5;28;01mbreak\u001b[39;00m\n",
      "File \u001b[0;32m~/anaconda3/lib/python3.11/http/client.py:287\u001b[0m, in \u001b[0;36mHTTPResponse._read_status\u001b[0;34m(self)\u001b[0m\n\u001b[1;32m    283\u001b[0m     \u001b[38;5;28mprint\u001b[39m(\u001b[38;5;124m\"\u001b[39m\u001b[38;5;124mreply:\u001b[39m\u001b[38;5;124m\"\u001b[39m, \u001b[38;5;28mrepr\u001b[39m(line))\n\u001b[1;32m    284\u001b[0m \u001b[38;5;28;01mif\u001b[39;00m \u001b[38;5;129;01mnot\u001b[39;00m line:\n\u001b[1;32m    285\u001b[0m     \u001b[38;5;66;03m# Presumably, the server closed the connection before\u001b[39;00m\n\u001b[1;32m    286\u001b[0m     \u001b[38;5;66;03m# sending a valid response.\u001b[39;00m\n\u001b[0;32m--> 287\u001b[0m     \u001b[38;5;28;01mraise\u001b[39;00m RemoteDisconnected(\u001b[38;5;124m\"\u001b[39m\u001b[38;5;124mRemote end closed connection without\u001b[39m\u001b[38;5;124m\"\u001b[39m\n\u001b[1;32m    288\u001b[0m                              \u001b[38;5;124m\"\u001b[39m\u001b[38;5;124m response\u001b[39m\u001b[38;5;124m\"\u001b[39m)\n\u001b[1;32m    289\u001b[0m \u001b[38;5;28;01mtry\u001b[39;00m:\n\u001b[1;32m    290\u001b[0m     version, status, reason \u001b[38;5;241m=\u001b[39m line\u001b[38;5;241m.\u001b[39msplit(\u001b[38;5;28;01mNone\u001b[39;00m, \u001b[38;5;241m2\u001b[39m)\n",
      "\u001b[0;31mRemoteDisconnected\u001b[0m: Remote end closed connection without response"
     ]
    }
   ],
   "source": [
    "# First a photometric frame\n",
    "#reduced_data_dir = '/Users/eder/Data/SPARC4/minidata/reduced/sparc4acs3/20230605/'\n",
    "#filename = reduced_data_dir + '20230605_s4c3_Gain1_1_Conventional_2_CR3__stack.fits'\n",
    "\n",
    "# Then a polarimetric frame\n",
    "reduced_data_dir = '/Users/eder/Data/SPARC4/minidata/reduced/sparc4acs4/20230606/'\n",
    "filename = reduced_data_dir + '20230606_s4c4_hd111579_POLAR_L2_stack.fits'\n",
    "\n",
    "check_astrometry(filename, nsources_to_plot=100) "
   ]
  },
  {
   "cell_type": "markdown",
   "metadata": {},
   "source": [
    "# 2. Load catalog data and re-calculate astrometry"
   ]
  },
  {
   "cell_type": "code",
   "execution_count": null,
   "metadata": {},
   "outputs": [],
   "source": [
    "#filename = \"/Users/eder/Data/SPARC4/minidata/reduced/sparc4acs1/20230604/20230604_s4c1_Gain1_1_Conventional_2_Hilt652_POLAR_L2__stack.fits\"\n",
    "hdul = fits.open(filename)\n",
    "img_data, hdr = hdul[0].data, hdul[0].header\n",
    "\n",
    "if hdr['INSTMODE'] == \"POLAR\" :\n",
    "    ra = hdul[\"CATALOG_POL_S_AP010\"].data[\"RA\"]\n",
    "    dec = hdul[\"CATALOG_POL_S_AP010\"].data[\"DEC\"]\n",
    "    x = hdul[\"CATALOG_POL_S_AP010\"].data[\"X\"]\n",
    "    y = hdul[\"CATALOG_POL_S_AP010\"].data[\"Y\"]\n",
    "elif hdr['INSTMODE'] == \"PHOT\" :\n",
    "    ra = hdul[\"CATALOG_PHOT_AP010\"].data[\"RA\"]\n",
    "    dec = hdul[\"CATALOG_PHOT_AP010\"].data[\"DEC\"]\n",
    "    x = hdul[\"CATALOG_PHOT_AP010\"].data[\"X\"]\n",
    "    y = hdul[\"CATALOG_PHOT_AP010\"].data[\"Y\"]\n",
    "    \n",
    "pixel_coords = np.ndarray((len(x), 2))\n",
    "sky_coords = np.ndarray((len(ra), 2))\n",
    "for j in range(len(x)) :\n",
    "    pixel_coords[j] = [x[j],y[j]]\n",
    "    sky_coords[j] = [ra[j],dec[j]]    "
   ]
  },
  {
   "cell_type": "code",
   "execution_count": null,
   "metadata": {},
   "outputs": [],
   "source": [
    "# Here one can decide whether or not to use reference image wcs (if current wcs is too bad or doesn't exist)\n",
    "use_ref_image = False\n",
    "\n",
    "# initialize empty wcs\n",
    "w = WCS(naxis=2)\n",
    "\n",
    "if use_ref_image :\n",
    "    # load exising wcs from a reference image header\n",
    "    ref_filename = \"/Users/eder/sparc4-pipeline/calibdb/20230503_s4c2_CR1_astrometryRef_stack.fits\"\n",
    "    w = set_wcs_from_astrom_ref_image(ref_filename, hdr)  \n",
    "else :\n",
    "    # load existing wcs from image header\n",
    "    w = WCS(hdr,naxis=2)"
   ]
  },
  {
   "cell_type": "markdown",
   "metadata": {},
   "source": [
    "## 2.1 Solve astrometry using catalog data only"
   ]
  },
  {
   "cell_type": "code",
   "execution_count": null,
   "metadata": {},
   "outputs": [],
   "source": [
    "w = astrometry_from_existing_wcs(w, \n",
    "                                 img_data, \n",
    "                                 pixel_coords=pixel_coords, \n",
    "                                 sky_coords=sky_coords,\n",
    "                                 max_number_of_gaia_sources=50,\n",
    "                                 fov_search_factor=1.0, \n",
    "                                 plot_solution=True)"
   ]
  },
  {
   "cell_type": "markdown",
   "metadata": {},
   "source": [
    "## 2.2 Solve astrometry using x,y catalog data only and detect+match Gaia sources"
   ]
  },
  {
   "cell_type": "code",
   "execution_count": null,
   "metadata": {},
   "outputs": [],
   "source": [
    "w = astrometry_from_existing_wcs(w, \n",
    "                                 img_data, \n",
    "                                 pixel_coords=pixel_coords, \n",
    "                                 max_number_of_gaia_sources=50,\n",
    "                                 fov_search_factor=1.0, \n",
    "                                 plot_solution=True)"
   ]
  },
  {
   "cell_type": "markdown",
   "metadata": {},
   "source": [
    "## 2.3 Check solution again"
   ]
  },
  {
   "cell_type": "code",
   "execution_count": null,
   "metadata": {},
   "outputs": [],
   "source": [
    "catalog_sky_coords = np.array(w.pixel_to_world_values(pixel_coords))\n",
    "\n",
    "center = SkyCoord(w.wcs.crval[0], w.wcs.crval[1], unit=(u.deg,u.deg))\n",
    "fov = (img_data.shape * proj_plane_pixel_scales(w))[0]\n",
    "gaia_sources_skycoords = twirl.gaia_radecs(center, 1.1 * fov)[:50]\n",
    "gaia_sources_pixcoords = np.array(w.world_to_pixel_values(gaia_sources_skycoords))\n",
    "\n",
    "plt.imshow(img_data, vmin=np.median(img_data), vmax=3 * np.median(img_data), cmap=\"Greys_r\")\n",
    "_ = photutils.aperture.CircularAperture(gaia_sources_pixcoords, r=10.0).plot(color=\"y\")"
   ]
  },
  {
   "cell_type": "code",
   "execution_count": null,
   "metadata": {},
   "outputs": [],
   "source": []
  }
 ],
 "metadata": {
  "colab": {
   "provenance": []
  },
  "kernelspec": {
   "display_name": "Python 3 (ipykernel)",
   "language": "python",
   "name": "python3"
  },
  "language_info": {
   "codemirror_mode": {
    "name": "ipython",
    "version": 3
   },
   "file_extension": ".py",
   "mimetype": "text/x-python",
   "name": "python",
   "nbconvert_exporter": "python",
   "pygments_lexer": "ipython3",
   "version": "3.11.6"
  }
 },
 "nbformat": 4,
 "nbformat_minor": 1
}

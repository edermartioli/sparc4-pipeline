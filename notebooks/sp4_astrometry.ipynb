{
 "cells": [
  {
   "cell_type": "markdown",
   "metadata": {
    "id": "JtWbwmhSXmd-"
   },
   "source": [
    "# SPARC-4 Astrometry\n",
    "***\n",
    "\n",
    "This notebook shows a few examples on how to use the sparc4-pipeline tools to obtain an astrometric solution of a field and how to check the astrometric solution in the SPARC4 data products.\n",
    "\n",
    "* Eder Martioli, LNA 13 Mar 2024"
   ]
  },
  {
   "cell_type": "code",
   "execution_count": null,
   "metadata": {},
   "outputs": [],
   "source": [
    "import astropy.io.fits as fits\n",
    "import matplotlib.pyplot as plt\n",
    "import numpy as np\n",
    "\n",
    "from astropy import units as u\n",
    "from astropy.coordinates import SkyCoord\n",
    "from astropy.wcs.utils import proj_plane_pixel_scales\n",
    "from astropy.wcs import WCS\n",
    "from astropy.stats import sigma_clipped_stats\n",
    "from astropy.wcs.utils import fit_wcs_from_points\n",
    "\n",
    "import photutils\n",
    "\n",
    "import twirl\n",
    "from aafitrans import find_transform\n",
    "\n",
    "from sparc4.pipeline_lib import set_wcs_from_astrom_ref_image, astrometry_from_existing_wcs\n",
    "from sparc4.utils import check_astrometry"
   ]
  },
  {
   "cell_type": "markdown",
   "metadata": {},
   "source": [
    "# 1. Check astrometric solution in a \"stack\" or \"proc\" FITS product"
   ]
  },
  {
   "cell_type": "code",
   "execution_count": 2,
   "metadata": {},
   "outputs": [
    {
     "ename": "FileNotFoundError",
     "evalue": "[Errno 2] No such file or directory: '/Users/eder/Data/SPARC4/minidata/reduced/sparc4acs4/20230606/20230606_s4c4_hd111579_POLAR_L2_stack.fits'",
     "output_type": "error",
     "traceback": [
      "\u001b[0;31m---------------------------------------------------------------------------\u001b[0m",
      "\u001b[0;31mFileNotFoundError\u001b[0m                         Traceback (most recent call last)",
      "Cell \u001b[0;32mIn[2], line 9\u001b[0m\n\u001b[1;32m      6\u001b[0m reduced_data_dir \u001b[38;5;241m=\u001b[39m \u001b[38;5;124m'\u001b[39m\u001b[38;5;124m/Users/eder/Data/SPARC4/minidata/reduced/sparc4acs4/20230606/\u001b[39m\u001b[38;5;124m'\u001b[39m\n\u001b[1;32m      7\u001b[0m filename \u001b[38;5;241m=\u001b[39m reduced_data_dir \u001b[38;5;241m+\u001b[39m \u001b[38;5;124m'\u001b[39m\u001b[38;5;124m20230606_s4c4_hd111579_POLAR_L2_stack.fits\u001b[39m\u001b[38;5;124m'\u001b[39m\n\u001b[0;32m----> 9\u001b[0m check_astrometry(filename, nsources_to_plot\u001b[38;5;241m=\u001b[39m\u001b[38;5;241m100\u001b[39m)\n",
      "File \u001b[0;32m~/anaconda3/lib/python3.11/site-packages/sparc4/utils.py:634\u001b[0m, in \u001b[0;36mcheck_astrometry\u001b[0;34m(filename, fov_search_factor, apply_sparsify_filter, sparsify_factor, nsources_to_plot)\u001b[0m\n\u001b[1;32m    621\u001b[0m \u001b[38;5;250m\u001b[39m\u001b[38;5;124;03m\"\"\" Pipeline module to calcualte astrometric solution from an existing wcs\u001b[39;00m\n\u001b[1;32m    622\u001b[0m \u001b[38;5;124;03mParameters\u001b[39;00m\n\u001b[1;32m    623\u001b[0m \u001b[38;5;124;03m----------\u001b[39;00m\n\u001b[0;32m   (...)\u001b[0m\n\u001b[1;32m    630\u001b[0m \u001b[38;5;124;03m-------\u001b[39;00m\n\u001b[1;32m    631\u001b[0m \u001b[38;5;124;03m\"\"\"\u001b[39;00m\n\u001b[1;32m    633\u001b[0m \u001b[38;5;66;03m# load fits image\u001b[39;00m\n\u001b[0;32m--> 634\u001b[0m hdul \u001b[38;5;241m=\u001b[39m fits\u001b[38;5;241m.\u001b[39mopen(filename)\n\u001b[1;32m    635\u001b[0m img_data, hdr \u001b[38;5;241m=\u001b[39m hdul[\u001b[38;5;241m0\u001b[39m]\u001b[38;5;241m.\u001b[39mdata, hdul[\u001b[38;5;241m0\u001b[39m]\u001b[38;5;241m.\u001b[39mheader\n\u001b[1;32m    637\u001b[0m \u001b[38;5;66;03m#print(repr(hdr))\u001b[39;00m\n\u001b[1;32m    638\u001b[0m \n\u001b[1;32m    639\u001b[0m \u001b[38;5;66;03m# load wcs from input header\u001b[39;00m\n",
      "File \u001b[0;32m~/anaconda3/lib/python3.11/site-packages/astropy/io/fits/hdu/hdulist.py:213\u001b[0m, in \u001b[0;36mfitsopen\u001b[0;34m(name, mode, memmap, save_backup, cache, lazy_load_hdus, ignore_missing_simple, use_fsspec, fsspec_kwargs, **kwargs)\u001b[0m\n\u001b[1;32m    210\u001b[0m \u001b[38;5;28;01mif\u001b[39;00m \u001b[38;5;129;01mnot\u001b[39;00m name:\n\u001b[1;32m    211\u001b[0m     \u001b[38;5;28;01mraise\u001b[39;00m \u001b[38;5;167;01mValueError\u001b[39;00m(\u001b[38;5;124mf\u001b[39m\u001b[38;5;124m\"\u001b[39m\u001b[38;5;124mEmpty filename: \u001b[39m\u001b[38;5;132;01m{\u001b[39;00mname\u001b[38;5;132;01m!r}\u001b[39;00m\u001b[38;5;124m\"\u001b[39m)\n\u001b[0;32m--> 213\u001b[0m \u001b[38;5;28;01mreturn\u001b[39;00m HDUList\u001b[38;5;241m.\u001b[39mfromfile(\n\u001b[1;32m    214\u001b[0m     name,\n\u001b[1;32m    215\u001b[0m     mode,\n\u001b[1;32m    216\u001b[0m     memmap,\n\u001b[1;32m    217\u001b[0m     save_backup,\n\u001b[1;32m    218\u001b[0m     cache,\n\u001b[1;32m    219\u001b[0m     lazy_load_hdus,\n\u001b[1;32m    220\u001b[0m     ignore_missing_simple,\n\u001b[1;32m    221\u001b[0m     use_fsspec\u001b[38;5;241m=\u001b[39muse_fsspec,\n\u001b[1;32m    222\u001b[0m     fsspec_kwargs\u001b[38;5;241m=\u001b[39mfsspec_kwargs,\n\u001b[1;32m    223\u001b[0m     \u001b[38;5;241m*\u001b[39m\u001b[38;5;241m*\u001b[39mkwargs,\n\u001b[1;32m    224\u001b[0m )\n",
      "File \u001b[0;32m~/anaconda3/lib/python3.11/site-packages/astropy/io/fits/hdu/hdulist.py:476\u001b[0m, in \u001b[0;36mHDUList.fromfile\u001b[0;34m(cls, fileobj, mode, memmap, save_backup, cache, lazy_load_hdus, ignore_missing_simple, **kwargs)\u001b[0m\n\u001b[1;32m    457\u001b[0m \u001b[38;5;129m@classmethod\u001b[39m\n\u001b[1;32m    458\u001b[0m \u001b[38;5;28;01mdef\u001b[39;00m \u001b[38;5;21mfromfile\u001b[39m(\n\u001b[1;32m    459\u001b[0m     \u001b[38;5;28mcls\u001b[39m,\n\u001b[0;32m   (...)\u001b[0m\n\u001b[1;32m    467\u001b[0m     \u001b[38;5;241m*\u001b[39m\u001b[38;5;241m*\u001b[39mkwargs,\n\u001b[1;32m    468\u001b[0m ):\n\u001b[1;32m    469\u001b[0m \u001b[38;5;250m    \u001b[39m\u001b[38;5;124;03m\"\"\"\u001b[39;00m\n\u001b[1;32m    470\u001b[0m \u001b[38;5;124;03m    Creates an `HDUList` instance from a file-like object.\u001b[39;00m\n\u001b[1;32m    471\u001b[0m \n\u001b[0;32m   (...)\u001b[0m\n\u001b[1;32m    474\u001b[0m \u001b[38;5;124;03m    documentation for details of the parameters accepted by this method).\u001b[39;00m\n\u001b[1;32m    475\u001b[0m \u001b[38;5;124;03m    \"\"\"\u001b[39;00m\n\u001b[0;32m--> 476\u001b[0m     \u001b[38;5;28;01mreturn\u001b[39;00m \u001b[38;5;28mcls\u001b[39m\u001b[38;5;241m.\u001b[39m_readfrom(\n\u001b[1;32m    477\u001b[0m         fileobj\u001b[38;5;241m=\u001b[39mfileobj,\n\u001b[1;32m    478\u001b[0m         mode\u001b[38;5;241m=\u001b[39mmode,\n\u001b[1;32m    479\u001b[0m         memmap\u001b[38;5;241m=\u001b[39mmemmap,\n\u001b[1;32m    480\u001b[0m         save_backup\u001b[38;5;241m=\u001b[39msave_backup,\n\u001b[1;32m    481\u001b[0m         cache\u001b[38;5;241m=\u001b[39mcache,\n\u001b[1;32m    482\u001b[0m         ignore_missing_simple\u001b[38;5;241m=\u001b[39mignore_missing_simple,\n\u001b[1;32m    483\u001b[0m         lazy_load_hdus\u001b[38;5;241m=\u001b[39mlazy_load_hdus,\n\u001b[1;32m    484\u001b[0m         \u001b[38;5;241m*\u001b[39m\u001b[38;5;241m*\u001b[39mkwargs,\n\u001b[1;32m    485\u001b[0m     )\n",
      "File \u001b[0;32m~/anaconda3/lib/python3.11/site-packages/astropy/io/fits/hdu/hdulist.py:1146\u001b[0m, in \u001b[0;36mHDUList._readfrom\u001b[0;34m(cls, fileobj, data, mode, memmap, cache, lazy_load_hdus, ignore_missing_simple, use_fsspec, fsspec_kwargs, **kwargs)\u001b[0m\n\u001b[1;32m   1143\u001b[0m \u001b[38;5;28;01mif\u001b[39;00m fileobj \u001b[38;5;129;01mis\u001b[39;00m \u001b[38;5;129;01mnot\u001b[39;00m \u001b[38;5;28;01mNone\u001b[39;00m:\n\u001b[1;32m   1144\u001b[0m     \u001b[38;5;28;01mif\u001b[39;00m \u001b[38;5;129;01mnot\u001b[39;00m \u001b[38;5;28misinstance\u001b[39m(fileobj, _File):\n\u001b[1;32m   1145\u001b[0m         \u001b[38;5;66;03m# instantiate a FITS file object (ffo)\u001b[39;00m\n\u001b[0;32m-> 1146\u001b[0m         fileobj \u001b[38;5;241m=\u001b[39m _File(\n\u001b[1;32m   1147\u001b[0m             fileobj,\n\u001b[1;32m   1148\u001b[0m             mode\u001b[38;5;241m=\u001b[39mmode,\n\u001b[1;32m   1149\u001b[0m             memmap\u001b[38;5;241m=\u001b[39mmemmap,\n\u001b[1;32m   1150\u001b[0m             cache\u001b[38;5;241m=\u001b[39mcache,\n\u001b[1;32m   1151\u001b[0m             use_fsspec\u001b[38;5;241m=\u001b[39muse_fsspec,\n\u001b[1;32m   1152\u001b[0m             fsspec_kwargs\u001b[38;5;241m=\u001b[39mfsspec_kwargs,\n\u001b[1;32m   1153\u001b[0m         )\n\u001b[1;32m   1154\u001b[0m     \u001b[38;5;66;03m# The Astropy mode is determined by the _File initializer if the\u001b[39;00m\n\u001b[1;32m   1155\u001b[0m     \u001b[38;5;66;03m# supplied mode was None\u001b[39;00m\n\u001b[1;32m   1156\u001b[0m     mode \u001b[38;5;241m=\u001b[39m fileobj\u001b[38;5;241m.\u001b[39mmode\n",
      "File \u001b[0;32m~/anaconda3/lib/python3.11/site-packages/astropy/io/fits/file.py:217\u001b[0m, in \u001b[0;36m_File.__init__\u001b[0;34m(self, fileobj, mode, memmap, overwrite, cache, use_fsspec, fsspec_kwargs)\u001b[0m\n\u001b[1;32m    215\u001b[0m     \u001b[38;5;28mself\u001b[39m\u001b[38;5;241m.\u001b[39m_open_fileobj(fileobj, mode, overwrite)\n\u001b[1;32m    216\u001b[0m \u001b[38;5;28;01melif\u001b[39;00m \u001b[38;5;28misinstance\u001b[39m(fileobj, (\u001b[38;5;28mstr\u001b[39m, \u001b[38;5;28mbytes\u001b[39m)):\n\u001b[0;32m--> 217\u001b[0m     \u001b[38;5;28mself\u001b[39m\u001b[38;5;241m.\u001b[39m_open_filename(fileobj, mode, overwrite)\n\u001b[1;32m    218\u001b[0m \u001b[38;5;28;01melse\u001b[39;00m:\n\u001b[1;32m    219\u001b[0m     \u001b[38;5;28mself\u001b[39m\u001b[38;5;241m.\u001b[39m_open_filelike(fileobj, mode, overwrite)\n",
      "File \u001b[0;32m~/anaconda3/lib/python3.11/site-packages/astropy/io/fits/file.py:626\u001b[0m, in \u001b[0;36m_File._open_filename\u001b[0;34m(self, filename, mode, overwrite)\u001b[0m\n\u001b[1;32m    623\u001b[0m ext \u001b[38;5;241m=\u001b[39m os\u001b[38;5;241m.\u001b[39mpath\u001b[38;5;241m.\u001b[39msplitext(\u001b[38;5;28mself\u001b[39m\u001b[38;5;241m.\u001b[39mname)[\u001b[38;5;241m1\u001b[39m]\n\u001b[1;32m    625\u001b[0m \u001b[38;5;28;01mif\u001b[39;00m \u001b[38;5;129;01mnot\u001b[39;00m \u001b[38;5;28mself\u001b[39m\u001b[38;5;241m.\u001b[39m_try_read_compressed(\u001b[38;5;28mself\u001b[39m\u001b[38;5;241m.\u001b[39mname, magic, mode, ext\u001b[38;5;241m=\u001b[39mext):\n\u001b[0;32m--> 626\u001b[0m     \u001b[38;5;28mself\u001b[39m\u001b[38;5;241m.\u001b[39m_file \u001b[38;5;241m=\u001b[39m \u001b[38;5;28mopen\u001b[39m(\u001b[38;5;28mself\u001b[39m\u001b[38;5;241m.\u001b[39mname, IO_FITS_MODES[mode])\n\u001b[1;32m    627\u001b[0m     \u001b[38;5;28mself\u001b[39m\u001b[38;5;241m.\u001b[39mclose_on_error \u001b[38;5;241m=\u001b[39m \u001b[38;5;28;01mTrue\u001b[39;00m\n\u001b[1;32m    629\u001b[0m \u001b[38;5;66;03m# Make certain we're back at the beginning of the file\u001b[39;00m\n\u001b[1;32m    630\u001b[0m \u001b[38;5;66;03m# BZ2File does not support seek when the file is open for writing, but\u001b[39;00m\n\u001b[1;32m    631\u001b[0m \u001b[38;5;66;03m# when opening a file for write, bz2.BZ2File always truncates anyway.\u001b[39;00m\n",
      "\u001b[0;31mFileNotFoundError\u001b[0m: [Errno 2] No such file or directory: '/Users/eder/Data/SPARC4/minidata/reduced/sparc4acs4/20230606/20230606_s4c4_hd111579_POLAR_L2_stack.fits'"
     ]
    }
   ],
   "source": [
    "# First a photometric frame\n",
    "#reduced_data_dir = '/Users/eder/Data/SPARC4/minidata/reduced/sparc4acs3/20230605/'\n",
    "#filename = reduced_data_dir + '20230605_s4c3_Gain1_1_Conventional_2_CR3__stack.fits'\n",
    "\n",
    "# Then a polarimetric frame\n",
    "reduced_data_dir = '/Users/eder/Data/SPARC4/minidata/reduced/sparc4acs4/20230606/'\n",
    "filename = reduced_data_dir + '20230606_s4c4_hd111579_POLAR_L2_stack.fits'\n",
    "\n",
    "check_astrometry(filename, nsources_to_plot=100) "
   ]
  },
  {
   "cell_type": "markdown",
   "metadata": {},
   "source": [
    "# 2. Load catalog data and re-calculate astrometry"
   ]
  },
  {
   "cell_type": "code",
   "execution_count": null,
   "metadata": {},
   "outputs": [],
   "source": [
    "#filename = \"/Users/eder/Data/SPARC4/minidata/reduced/sparc4acs1/20230604/20230604_s4c1_Gain1_1_Conventional_2_Hilt652_POLAR_L2__stack.fits\"\n",
    "hdul = fits.open(filename)\n",
    "img_data, hdr = hdul[0].data, hdul[0].header\n",
    "\n",
    "if hdr['INSTMODE'] == \"POLAR\" :\n",
    "    ra = hdul[\"CATALOG_POL_S_AP010\"].data[\"RA\"]\n",
    "    dec = hdul[\"CATALOG_POL_S_AP010\"].data[\"DEC\"]\n",
    "    x = hdul[\"CATALOG_POL_S_AP010\"].data[\"X\"]\n",
    "    y = hdul[\"CATALOG_POL_S_AP010\"].data[\"Y\"]\n",
    "elif hdr['INSTMODE'] == \"PHOT\" :\n",
    "    ra = hdul[\"CATALOG_PHOT_AP010\"].data[\"RA\"]\n",
    "    dec = hdul[\"CATALOG_PHOT_AP010\"].data[\"DEC\"]\n",
    "    x = hdul[\"CATALOG_PHOT_AP010\"].data[\"X\"]\n",
    "    y = hdul[\"CATALOG_PHOT_AP010\"].data[\"Y\"]\n",
    "    \n",
    "pixel_coords = np.ndarray((len(x), 2))\n",
    "sky_coords = np.ndarray((len(ra), 2))\n",
    "for j in range(len(x)) :\n",
    "    pixel_coords[j] = [x[j],y[j]]\n",
    "    sky_coords[j] = [ra[j],dec[j]]    "
   ]
  },
  {
   "cell_type": "code",
   "execution_count": null,
   "metadata": {},
   "outputs": [],
   "source": [
    "# Here one can decide whether or not to use reference image wcs (if current wcs is too bad or doesn't exist)\n",
    "use_ref_image = False\n",
    "\n",
    "# initialize empty wcs\n",
    "w = WCS(naxis=2)\n",
    "\n",
    "if use_ref_image :\n",
    "    # load exising wcs from a reference image header\n",
    "    ref_filename = \"/Users/eder/sparc4-pipeline/calibdb/20230503_s4c2_CR1_astrometryRef_stack.fits\"\n",
    "    w = set_wcs_from_astrom_ref_image(ref_filename, hdr)  \n",
    "else :\n",
    "    # load existing wcs from image header\n",
    "    w = WCS(hdr,naxis=2)"
   ]
  },
  {
   "cell_type": "markdown",
   "metadata": {},
   "source": [
    "## 2.1 Solve astrometry using catalog data only"
   ]
  },
  {
   "cell_type": "code",
   "execution_count": null,
   "metadata": {},
   "outputs": [],
   "source": [
    "w = astrometry_from_existing_wcs(w, \n",
    "                                 img_data, \n",
    "                                 pixel_coords=pixel_coords, \n",
    "                                 sky_coords=sky_coords,\n",
    "                                 max_number_of_gaia_sources=50,\n",
    "                                 fov_search_factor=1.0, \n",
    "                                 plot_solution=True)"
   ]
  },
  {
   "cell_type": "markdown",
   "metadata": {},
   "source": [
    "## 2.2 Solve astrometry using x,y catalog data only and detect+match Gaia sources"
   ]
  },
  {
   "cell_type": "code",
   "execution_count": null,
   "metadata": {},
   "outputs": [],
   "source": [
    "w = astrometry_from_existing_wcs(w, \n",
    "                                 img_data, \n",
    "                                 pixel_coords=pixel_coords, \n",
    "                                 max_number_of_gaia_sources=50,\n",
    "                                 fov_search_factor=1.0, \n",
    "                                 plot_solution=True)"
   ]
  },
  {
   "cell_type": "markdown",
   "metadata": {},
   "source": [
    "## 2.3 Check solution again"
   ]
  },
  {
   "cell_type": "code",
   "execution_count": null,
   "metadata": {},
   "outputs": [],
   "source": [
    "catalog_sky_coords = np.array(w.pixel_to_world_values(pixel_coords))\n",
    "\n",
    "center = SkyCoord(w.wcs.crval[0], w.wcs.crval[1], unit=(u.deg,u.deg))\n",
    "fov = (img_data.shape * proj_plane_pixel_scales(w))[0]\n",
    "gaia_sources_skycoords = twirl.gaia_radecs(center, 1.1 * fov)[:50]\n",
    "gaia_sources_pixcoords = np.array(w.world_to_pixel_values(gaia_sources_skycoords))\n",
    "\n",
    "plt.imshow(img_data, vmin=np.median(img_data), vmax=3 * np.median(img_data), cmap=\"Greys_r\")\n",
    "_ = photutils.aperture.CircularAperture(gaia_sources_pixcoords, r=10.0).plot(color=\"y\")"
   ]
  },
  {
   "cell_type": "code",
   "execution_count": null,
   "metadata": {},
   "outputs": [],
   "source": []
  }
 ],
 "metadata": {
  "colab": {
   "provenance": []
  },
  "kernelspec": {
   "display_name": "Python 3 (ipykernel)",
   "language": "python",
   "name": "python3"
  },
  "language_info": {
   "codemirror_mode": {
    "name": "ipython",
    "version": 3
   },
   "file_extension": ".py",
   "mimetype": "text/x-python",
   "name": "python",
   "nbconvert_exporter": "python",
   "pygments_lexer": "ipython3",
   "version": "3.11.6"
  }
 },
 "nbformat": 4,
 "nbformat_minor": 1
}

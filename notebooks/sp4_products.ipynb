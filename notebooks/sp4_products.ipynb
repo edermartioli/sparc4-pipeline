{
 "cells": [
  {
   "cell_type": "markdown",
   "metadata": {
    "id": "JtWbwmhSXmd-"
   },
   "source": [
    "# SPARC-4 products\n",
    "***\n",
    "\n",
    "This notebook shows an example for viewing and accessing the SPARC4 data products.\n",
    "\n",
    "* Eder Martioli, LNA 24 Nov 2023"
   ]
  },
  {
   "cell_type": "code",
   "execution_count": null,
   "metadata": {},
   "outputs": [],
   "source": [
    "import astropy.io.fits as fits\n",
    "import matplotlib.pyplot as plt\n",
    "import numpy as np\n",
    "import pandas as pd\n",
    "\n",
    "import sparc4.product_plots as s4plt\n",
    "import sparc4.pipeline_lib as s4pipelib"
   ]
  },
  {
   "cell_type": "markdown",
   "metadata": {},
   "source": [
    "### Set example file paths\n",
    "Here we assign a string variable to each file path used in this notebook"
   ]
  },
  {
   "cell_type": "code",
   "execution_count": null,
   "metadata": {},
   "outputs": [],
   "source": [
    "db_example = '/Volumes/Samsung_T5/Data/SPARC4/minidata/reduced/sparc4acs1/20230606/20230606_sparc4acs1_db.fits'\n",
    "\n",
    "phot_stack_example = '/Volumes/Samsung_T5/Data/SPARC4/minidata/reduced/sparc4acs1/20230606/20230606_s4c1_Gain1_1_Conventional_2_ltt4816_stack.fits'\n",
    "\n",
    "phot_lightcurve_example ='/Volumes/Samsung_T5/Data/SPARC4/minidata/reduced/sparc4acs1/20230606/20230606_s4c1_ltt4816_lc.fits'\n",
    "\n",
    "polar_proc_example = '/Volumes/Samsung_T5/Data/SPARC4/minidata/reduced/sparc4acs1/20230604/20230604_s4c1_000471_stdpol_proc.fits'\n",
    "\n",
    "polar_stack_example = '/Volumes/Samsung_T5/Data/SPARC4/minidata/reduced/sparc4acs1/20230604/20230604_s4c1_Hilt652_POLAR_L2_stack.fits'\n",
    "\n",
    "polar_example = '/Volumes/Samsung_T5/Data/SPARC4/minidata/reduced/sparc4acs1/20230604/20230604_s4c1_000471_stdpol_l2_polar.fits'\n",
    "\n",
    "polar_time_series_example = '/Volumes/Samsung_T5/Data/SPARC4/minidata/reduced/sparc4acs1/20230604/20230604_s4c1_Hilt652_POLAR_L2_ts.fits'"
   ]
  },
  {
   "cell_type": "markdown",
   "metadata": {},
   "source": [
    "# DB product example\n",
    "***\n",
    "In this simple example, we just read the database created by the `sparc4-pipelin` and print it as a pandas table. It's an easy way to quickly access the log of observations."
   ]
  },
  {
   "cell_type": "code",
   "execution_count": null,
   "metadata": {},
   "outputs": [],
   "source": [
    "db = fits.open(db_example)\n",
    "pd.DataFrame(db[1].data)"
   ]
  },
  {
   "cell_type": "markdown",
   "metadata": {},
   "source": [
    "# PHOT products example\n",
    "***\n",
    "In this example we show how to work with the photometric products of SPARC4."
   ]
  },
  {
   "cell_type": "markdown",
   "metadata": {},
   "source": [
    "First we show how to load a science FITS product using `astropy` and print information about the data structure and contents in this file."
   ]
  },
  {
   "cell_type": "code",
   "execution_count": null,
   "metadata": {},
   "outputs": [],
   "source": [
    "hdul = fits.open(phot_stack_example)\n",
    "hdul.info()"
   ]
  },
  {
   "cell_type": "markdown",
   "metadata": {},
   "source": [
    "Then, we print the primary header, which is typical of a SPARC4 processed frame:"
   ]
  },
  {
   "cell_type": "code",
   "execution_count": null,
   "metadata": {},
   "outputs": [],
   "source": [
    "print(repr(hdul[0].header))"
   ]
  },
  {
   "cell_type": "markdown",
   "metadata": {},
   "source": [
    "Now print one of the catalogs to see its contents"
   ]
  },
  {
   "cell_type": "code",
   "execution_count": null,
   "metadata": {},
   "outputs": [],
   "source": [
    "catalog = 'CATALOG_PHOT_AP012'\n",
    "pd.DataFrame(hdul[catalog].data)"
   ]
  },
  {
   "cell_type": "markdown",
   "metadata": {},
   "source": [
    "Now let's plot the image data using matplotlib:"
   ]
  },
  {
   "cell_type": "code",
   "execution_count": null,
   "metadata": {},
   "outputs": [],
   "source": [
    "img_data = hdul[0].data\n",
    "plt.imshow(img_data, vmin=np.percentile(img_data, 0.5), vmax=np.percentile(img_data, 99.5))"
   ]
  },
  {
   "cell_type": "markdown",
   "metadata": {},
   "source": [
    "Now we also plot the same image but using the `sparc4.product_plots` library from `sparc4-pipeline`"
   ]
  },
  {
   "cell_type": "code",
   "execution_count": null,
   "metadata": {},
   "outputs": [],
   "source": [
    "s4plt.plot_sci_frame(phot_stack_example, cat_ext=catalog, nstars=5, use_sky_coords=True)"
   ]
  },
  {
   "cell_type": "markdown",
   "metadata": {},
   "source": [
    "Now we load the light curve FITS product and check its contents:"
   ]
  },
  {
   "cell_type": "code",
   "execution_count": null,
   "metadata": {},
   "outputs": [],
   "source": [
    "lc = fits.open(phot_lightcurve_example)\n",
    "lc.info()"
   ]
  },
  {
   "cell_type": "code",
   "execution_count": null,
   "metadata": {},
   "outputs": [],
   "source": [
    "pd.DataFrame(lc[\"CATALOG_PHOT_AP010\"].data)"
   ]
  },
  {
   "cell_type": "markdown",
   "metadata": {},
   "source": [
    "Below we select the source with index number 3 assigned as the main target to be analyzed. Then we select three other stars with indices 0, 1, and 2, as comparisons for differential photometry. All indices are displayed in the image above.  \n",
    "\n",
    "After selecting the stars we use the function `s4plt.plot_light_curve` to produce plots of the lightcurve data."
   ]
  },
  {
   "cell_type": "code",
   "execution_count": null,
   "metadata": {},
   "outputs": [],
   "source": [
    "target=3\n",
    "comps=[0,1,2]\n",
    "\n",
    "s4plt.plot_light_curve(phot_lightcurve_example, target=target, comps=comps, nsig=10,\n",
    "                     plot_coords=True, plot_rawmags=True, plot_sum=True,\n",
    "                     plot_comps=True, catalog_name=catalog)"
   ]
  },
  {
   "cell_type": "markdown",
   "metadata": {},
   "source": [
    "# POLAR products example\n",
    "***\n",
    "In this example we show how to work with the polarimetric products of SPARC4"
   ]
  },
  {
   "cell_type": "markdown",
   "metadata": {},
   "source": [
    "We start by reading the science image FITS file and showing its information. "
   ]
  },
  {
   "cell_type": "code",
   "execution_count": null,
   "metadata": {},
   "outputs": [],
   "source": [
    "hdul = fits.open(polar_stack_example)\n",
    "hdul.info()"
   ]
  },
  {
   "cell_type": "markdown",
   "metadata": {},
   "source": [
    "Then we plot the science frame using the `sparc4.product_plots` library"
   ]
  },
  {
   "cell_type": "code",
   "execution_count": null,
   "metadata": {},
   "outputs": [],
   "source": [
    "s4plt.plot_sci_polar_frame(polar_stack_example)"
   ]
  },
  {
   "cell_type": "markdown",
   "metadata": {},
   "source": [
    "Now we open a polarimetry FITS product and print its basic information"
   ]
  },
  {
   "cell_type": "code",
   "execution_count": null,
   "metadata": {},
   "outputs": [],
   "source": [
    "polar = fits.open(polar_example)\n",
    "polar.info()"
   ]
  },
  {
   "cell_type": "markdown",
   "metadata": {},
   "source": [
    "Below we print one of the catalog extensions"
   ]
  },
  {
   "cell_type": "code",
   "execution_count": null,
   "metadata": {},
   "outputs": [],
   "source": [
    "pd.DataFrame(polar[\"POLARIMETRY_AP012\"].data)"
   ]
  },
  {
   "cell_type": "markdown",
   "metadata": {},
   "source": [
    "Then we can print all column names to check the data available in each catalog"
   ]
  },
  {
   "cell_type": "code",
   "execution_count": null,
   "metadata": {},
   "outputs": [],
   "source": [
    "pd.DataFrame(polar[\"POLARIMETRY_AP012\"].data).columns"
   ]
  },
  {
   "cell_type": "markdown",
   "metadata": {},
   "source": [
    "Finally, we can select the source of interest (in this case index=0) and then we get the polarimetry results using the function `get_polarimetry_results` from `sparc4.pipeline_lib` library:"
   ]
  },
  {
   "cell_type": "code",
   "execution_count": null,
   "metadata": {},
   "outputs": [],
   "source": [
    "source_index = 0\n",
    "\n",
    "pol_results = s4pipelib.get_polarimetry_results(polar_example,\n",
    "                                                source_index=source_index,\n",
    "                                                min_aperture=4,\n",
    "                                                max_aperture=25,\n",
    "                                                plot=True,\n",
    "                                                verbose=True)"
   ]
  },
  {
   "cell_type": "markdown",
   "metadata": {},
   "source": [
    "Below we print all variables names for the measurements available in the polar product"
   ]
  },
  {
   "cell_type": "code",
   "execution_count": null,
   "metadata": {},
   "outputs": [],
   "source": [
    "for key in pol_results.keys():\n",
    "    print(key, \":\", pol_results[key])"
   ]
  },
  {
   "cell_type": "markdown",
   "metadata": {},
   "source": [
    "And below we show a simple example how to get one of these measurements out. For instance, we're getting the total polarization and the polarization angle. "
   ]
  },
  {
   "cell_type": "code",
   "execution_count": null,
   "metadata": {},
   "outputs": [],
   "source": [
    "p = pol_results[\"P\"]*100\n",
    "pa = pol_results[\"THETA\"]\n",
    "print(\"Polarization: {} %  Angle of polarization: {} deg\".format(p,pa) )"
   ]
  },
  {
   "cell_type": "markdown",
   "metadata": {},
   "source": [
    "Finally, we show below an example of a polarimetric time series product. "
   ]
  },
  {
   "cell_type": "code",
   "execution_count": null,
   "metadata": {},
   "outputs": [],
   "source": [
    "polar_ts = fits.open(polar_time_series_example)\n",
    "pd.DataFrame(polar_ts[1].data)"
   ]
  },
  {
   "cell_type": "code",
   "execution_count": null,
   "metadata": {},
   "outputs": [],
   "source": [
    "pd.DataFrame(polar_ts[1].data).columns"
   ]
  },
  {
   "cell_type": "code",
   "execution_count": null,
   "metadata": {},
   "outputs": [],
   "source": [
    "s4plt.plot_polar_time_series(polar_time_series_example, \n",
    "                             target=0, \n",
    "                             comps=[1,2,3], \n",
    "                             plot_total_polarization=True, \n",
    "                             plot_polarization_angle=True)"
   ]
  },
  {
   "cell_type": "code",
   "execution_count": null,
   "metadata": {},
   "outputs": [],
   "source": []
  }
 ],
 "metadata": {
  "colab": {
   "provenance": []
  },
  "kernelspec": {
   "display_name": "Python 3 (ipykernel)",
   "language": "python",
   "name": "python3"
  },
  "language_info": {
   "codemirror_mode": {
    "name": "ipython",
    "version": 3
   },
   "file_extension": ".py",
   "mimetype": "text/x-python",
   "name": "python",
   "nbconvert_exporter": "python",
   "pygments_lexer": "ipython3",
   "version": "3.11.5"
  }
 },
 "nbformat": 4,
 "nbformat_minor": 1
}

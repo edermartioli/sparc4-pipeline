{
 "cells": [
  {
   "cell_type": "markdown",
   "metadata": {
    "id": "JtWbwmhSXmd-"
   },
   "source": [
    "## SPARC-4 mini-pipeline tools\n",
    "***\n",
    "# <font color='darkblue'>Polarimetry</font> \n",
    "\n",
    "This notebook shows an example for obtaining a polarimetric analysis of a set of observations using the SPARC4 instrument in polarimetric mode with both half-wave and quarter-wave rotating plates. It takes as input a series of science imaging products `*_proc.fits` obtained with the SPARC4 pipeline.\n",
    "\n",
    "* Eder Martioli, LNA 20 Jun 2023\n",
    "\n",
    "<div class=\"alert alert-block alert-warning\">\n",
    "<b>WARNING:</b> it requires running <b>sp4_sci_image_reduction.ipynb</b> in advance, for the same channel and modes, to generate *_proc.fits reduced files\n",
    "</div>"
   ]
  },
  {
   "cell_type": "code",
   "execution_count": null,
   "metadata": {
    "id": "P2-Lw_FAXmeA"
   },
   "outputs": [],
   "source": [
    "import sparc4.product_plots as s4plt\n",
    "import sparc4.pipeline_lib as s4pipelib\n",
    "import sparc4.utils as s4utils\n",
    "import sparc4.db as s4db"
   ]
  },
  {
   "cell_type": "markdown",
   "metadata": {},
   "source": [
    "## User inputs"
   ]
  },
  {
   "cell_type": "code",
   "execution_count": null,
   "metadata": {},
   "outputs": [],
   "source": [
    "# set an object ID matching the ID in the image header keyword 'OBJECT'\n",
    "OBJECTID = \"HD111579\"\n",
    "\n",
    "# set night directory name\n",
    "NIGHTDIR = '20230503'\n",
    "# set raw data root directory\n",
    "DATADIR =  \"/Volumes/Samsung_T5/Data/SPARC4/minidata/\"\n",
    "# set reduced data root directory\n",
    "REDUCEDDIR = \"/Volumes/Samsung_T5/Data/SPARC4/minidata/reduced/\"\n",
    "\n",
    "# set SPARC4 channel\n",
    "CHANNEL = 4  # 1, 2, 3 or 4\n",
    "\n",
    "# whether or not to force reduction even if product already exists\n",
    "FORCE = False\n",
    "\n",
    "# get SPARC4 pipeline parameters\n",
    "p = s4pipelib.init_s4_p(datadir=DATADIR,\n",
    "                        reducedir=REDUCEDDIR,\n",
    "                        nightdir=NIGHTDIR,\n",
    "                        channels=\"{}\".format(CHANNEL),\n",
    "                        print_report=False)\n",
    "\n",
    "# create database of raw data for reduction\n",
    "db = s4db.create_db_from_observations(p['filelists'][CHANNEL-1], \n",
    "                                      p['DB_KEYS'], \n",
    "                                      include_img_statistics=p[\"INCLUDE_IMG_STATISTICS\"], \n",
    "                                      include_only_fullframe=p[\"FULL_FRAMES_ONLY\"], \n",
    "                                      output=p['s4db_files'][CHANNEL-1])\n",
    "\n",
    "# detect all detector modes\n",
    "detector_modes = s4db.get_detector_modes_observed(db, \n",
    "                                                  science_only=True,\n",
    "                                                  detector_keys=p[\"DETECTOR_MODE_KEYWORDS\"])\n",
    "# get first valid key\n",
    "mode_key = next(iter(detector_modes))\n",
    "\n",
    "# set PHOTOMETRIC mode\n",
    "inst_mode = p['INSTMODE_POLARIMETRY_KEYVALUE']\n",
    "\n",
    "# we need the reduce directory \n",
    "reduce_ch_dir = p['reduce_directories'][CHANNEL-1]"
   ]
  },
  {
   "cell_type": "markdown",
   "metadata": {},
   "source": [
    "# 1. Calculate `HALF-WAVE` POLARIMETRY"
   ]
  },
  {
   "cell_type": "code",
   "execution_count": null,
   "metadata": {},
   "outputs": [],
   "source": [
    "# First set the polar mode and waveplate to \"halfwave\"\n",
    "polar_mode = p['POLARIMETRY_L2_KEYVALUE']\n",
    "polsuffix = \"_{}_{}\".format(inst_mode, polar_mode)\n",
    "\n",
    "# get list of objects observed in polarimetric mode\n",
    "objs = s4db.get_targets_observed(db, \n",
    "                                 inst_mode=inst_mode, \n",
    "                                 polar_mode=polar_mode, \n",
    "                                 detector_mode=detector_modes[mode_key])\n",
    "\n",
    "# select object's data \n",
    "if OBJECTID != \"all\" :\n",
    "    objs = objs[objs['OBJECT'] == OBJECTID]\n",
    "\n",
    "    \n",
    "# loop over each object to run the reduction\n",
    "for k in range(len(objs)) :\n",
    "    obj = objs[k][0]\n",
    "    \n",
    "    # set suffix for output time series filename\n",
    "    ts_suffix = \"{}_s4c{}_{}{}\".format(NIGHTDIR,\n",
    "                                     p['CHANNELS'][CHANNEL-1] ,\n",
    "                                     obj.replace(\" \",\"\"), \n",
    "                                     polsuffix)    \n",
    "    \n",
    "    # get list of science data matching object, detector mode, inst. mode, and polar mode\n",
    "    raw_sci_list = s4db.get_file_list(db,\n",
    "                                      object_id=obj, \n",
    "                                      inst_mode=inst_mode, \n",
    "                                      polar_mode=polar_mode, \n",
    "                                      obstype=p['OBJECT_OBSTYPE_KEYVALUE'], \n",
    "                                      calwheel_mode=None, \n",
    "                                      detector_mode=detector_modes[mode_key])\n",
    "    # input reduced files list\n",
    "    sci_list = [\"{}/{}\".format(reduce_ch_dir, os.path.basename(f).replace(\".fits\",\"_proc.fits\")) for f in raw_sci_list]\n",
    "    \n",
    "    # group input list into polarimetric sequences\n",
    "    pol_sequences = s4utils.select_polar_sequences(sci_list, sortlist=True, verbose=True)\n",
    "    \n",
    "    for i in range(len(pol_sequences)) :    \n",
    "        \n",
    "        if len(pol_sequences[i]) == 0 :\n",
    "            continue\n",
    "            \n",
    "        polarproduct = s4pipelib.compute_polarimetry(pol_sequences[i],\n",
    "                                                     wave_plate = 'halfwave',\n",
    "                                                     base_aperture = p['APERTURE_RADIUS_FOR_PHOTOMETRY_IN_POLAR'],\n",
    "                                                     compute_k = True,\n",
    "                                                     fit_zero = False,\n",
    "                                                     zero = 0)\n",
    "\n",
    "        pol_results = s4pipelib.get_polarimetry_results(polarproduct,\n",
    "                                                        source_index=0,\n",
    "                                                        min_aperture=p['MIN_APERTURE_FOR_POLARIMETRY'],\n",
    "                                                        max_aperture=p['MAX_APERTURE_FOR_POLARIMETRY'],\n",
    "                                                        plot=True,\n",
    "                                                        verbose=True)"
   ]
  },
  {
   "cell_type": "markdown",
   "metadata": {},
   "source": [
    "# 2. Calculate `QUARTER-WAVE` POLARIMETRY"
   ]
  },
  {
   "cell_type": "code",
   "execution_count": null,
   "metadata": {},
   "outputs": [],
   "source": [
    "# First set the polar mode and waveplate to \"quarterwave\"\n",
    "polar_mode = p['POLARIMETRY_L4_KEYVALUE']\n",
    "polsuffix = \"_{}_{}\".format(inst_mode, polar_mode)\n",
    "\n",
    "# get list of objects observed in polarimetric mode\n",
    "objs = s4db.get_targets_observed(db, \n",
    "                                 inst_mode=inst_mode, \n",
    "                                 polar_mode=polar_mode, \n",
    "                                 detector_mode=detector_modes[mode_key])\n",
    "\n",
    "# select object's data \n",
    "if OBJECTID != \"all\" :\n",
    "    objs = objs[objs['OBJECT'] == OBJECTID]\n",
    "\n",
    "    \n",
    "# loop over each object to run the reduction\n",
    "for k in range(len(objs)) :\n",
    "    obj = objs[k][0]\n",
    "    \n",
    "    # set suffix for output time series filename\n",
    "    ts_suffix = \"{}_s4c{}_{}{}\".format(NIGHTDIR,\n",
    "                                     p['CHANNELS'][CHANNEL-1] ,\n",
    "                                     obj.replace(\" \",\"\"), \n",
    "                                     polsuffix)    \n",
    "    \n",
    "    # get list of science data matching object, detector mode, inst. mode, and polar mode\n",
    "    raw_sci_list = s4db.get_file_list(db,\n",
    "                                      object_id=obj, \n",
    "                                      inst_mode=inst_mode, \n",
    "                                      polar_mode=polar_mode, \n",
    "                                      obstype=p['OBJECT_OBSTYPE_KEYVALUE'], \n",
    "                                      calwheel_mode=None, \n",
    "                                      detector_mode=detector_modes[mode_key])\n",
    "    # input reduced files list\n",
    "    sci_list = [\"{}/{}\".format(reduce_ch_dir, os.path.basename(f).replace(\".fits\",\"_proc.fits\")) for f in raw_sci_list]\n",
    "    \n",
    "    # group input list into polarimetric sequences\n",
    "    pol_sequences = s4utils.select_polar_sequences(sci_list, sortlist=True, verbose=True)\n",
    "    \n",
    "    for i in range(len(pol_sequences)) :    \n",
    "        \n",
    "        if len(pol_sequences[i]) == 0 :\n",
    "            continue\n",
    "            \n",
    "        polarproduct = s4pipelib.compute_polarimetry(pol_sequences[i],\n",
    "                                                     wave_plate = 'quarterwave',\n",
    "                                                     base_aperture = p['APERTURE_RADIUS_FOR_PHOTOMETRY_IN_POLAR'],\n",
    "                                                     compute_k = False,\n",
    "                                                     fit_zero = True,\n",
    "                                                     zero = None)\n",
    "\n",
    "        pol_results = s4pipelib.get_polarimetry_results(polarproduct,\n",
    "                                                        source_index=0,\n",
    "                                                        min_aperture=p['MIN_APERTURE_FOR_POLARIMETRY'],\n",
    "                                                        max_aperture=p['MAX_APERTURE_FOR_POLARIMETRY'],\n",
    "                                                        plot=True,\n",
    "                                                        verbose=True)"
   ]
  },
  {
   "cell_type": "code",
   "execution_count": null,
   "metadata": {},
   "outputs": [],
   "source": []
  }
 ],
 "metadata": {
  "colab": {
   "provenance": []
  },
  "kernelspec": {
   "display_name": "Python 3",
   "language": "python",
   "name": "python3"
  },
  "language_info": {
   "codemirror_mode": {
    "name": "ipython",
    "version": 3
   },
   "file_extension": ".py",
   "mimetype": "text/x-python",
   "name": "python",
   "nbconvert_exporter": "python",
   "pygments_lexer": "ipython3",
   "version": "3.7.3"
  }
 },
 "nbformat": 4,
 "nbformat_minor": 1
}

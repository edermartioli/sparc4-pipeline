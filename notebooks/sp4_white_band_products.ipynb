{
 "cells": [
  {
   "cell_type": "markdown",
   "metadata": {
    "id": "JtWbwmhSXmd-"
   },
   "source": [
    "# SPARC-4 mini-pipeline tools\n",
    "## White band products\n",
    "\n",
    "This notebook shows examples of how to obtain products (image, photometry, polarimetry, time series) in an integrated band (white band) summing all the other SPARC4 channels.\n",
    "\n",
    "* Eder Martioli, LNA 16 Feb 2023"
   ]
  },
  {
   "cell_type": "code",
   "execution_count": 2,
   "metadata": {
    "id": "P2-Lw_FAXmeA"
   },
   "outputs": [],
   "source": [
    "import os,sys\n",
    "path_parent = os.path.dirname(os.getcwd())\n",
    "# path_parent = \"/Volumes/Samsung_T5/sparc4-pipeline/\"\n",
    "sys.path.append(path_parent) \n",
    "import astropy.io.fits as fits\n",
    "import matplotlib.pyplot as plt\n",
    "import numpy as np\n",
    "import glob\n",
    "\n",
    "import sparc4_product_plots as s4plt\n",
    "import sparc4_pipeline_lib as s4pipelib\n",
    "import sparc4_utils as s4utils\n",
    "import sparc4_params"
   ]
  },
  {
   "cell_type": "markdown",
   "metadata": {},
   "source": [
    "### User inputs"
   ]
  },
  {
   "cell_type": "code",
   "execution_count": 3,
   "metadata": {},
   "outputs": [],
   "source": [
    "# set night directory name\n",
    "NIGHTDIR = '20221115'\n",
    "# set SPARC4 channel\n",
    "CHANNEL = 3  # 1, 2, 3 or 4\n",
    "# set an object ID matching the ID in the image header keyword 'OBJECT'\n",
    "OBJECTID = \"NGC20241\"\n",
    "# whether or not to force reduction even if product already exists\n",
    "FORCE = True"
   ]
  },
  {
   "cell_type": "code",
   "execution_count": null,
   "metadata": {},
   "outputs": [],
   "source": []
  }
 ],
 "metadata": {
  "colab": {
   "provenance": []
  },
  "kernelspec": {
   "display_name": "Python 3 (ipykernel)",
   "language": "python",
   "name": "python3"
  },
  "language_info": {
   "codemirror_mode": {
    "name": "ipython",
    "version": 3
   },
   "file_extension": ".py",
   "mimetype": "text/x-python",
   "name": "python",
   "nbconvert_exporter": "python",
   "pygments_lexer": "ipython3",
   "version": "3.9.7"
  }
 },
 "nbformat": 4,
 "nbformat_minor": 1
}

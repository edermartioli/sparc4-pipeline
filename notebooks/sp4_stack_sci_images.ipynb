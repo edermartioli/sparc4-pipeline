{
 "cells": [
  {
   "cell_type": "markdown",
   "metadata": {
    "id": "JtWbwmhSXmd-"
   },
   "source": [
    "## SPARC-4 mini-pipeline tools\n",
    "# Stack science images\n",
    "\n",
    "This notebook shows an example for reducing a series of scientific images using the SPARC4 pipeline to produce a master stacked image of a given field.\n",
    "\n",
    "* Eder Martioli, LNA 10 Jun 2023"
   ]
  },
  {
   "cell_type": "code",
   "execution_count": 1,
   "metadata": {
    "id": "P2-Lw_FAXmeA"
   },
   "outputs": [
    {
     "name": "stderr",
     "output_type": "stream",
     "text": [
      "/Users/eder/anaconda3/lib/python3.7/site-packages/dask/config.py:168: YAMLLoadWarning: calling yaml.load() without Loader=... is deprecated, as the default Loader is unsafe. Please read https://msg.pyyaml.org/load for full details.\n",
      "  data = yaml.load(f.read()) or {}\n"
     ]
    }
   ],
   "source": [
    "import os,sys\n",
    "path_parent = os.path.dirname(os.getcwd())\n",
    "# path_parent = \"/Volumes/Samsung_T5/sparc4-pipeline/\"\n",
    "sys.path.append(path_parent) \n",
    "import sparc4_pipeline_lib as s4pipelib\n",
    "import sparc4_product_plots as s4plt"
   ]
  },
  {
   "cell_type": "markdown",
   "metadata": {},
   "source": [
    "## User inputs"
   ]
  },
  {
   "cell_type": "code",
   "execution_count": 3,
   "metadata": {},
   "outputs": [],
   "source": [
    "# set an object ID matching the ID in the image header keyword 'OBJECT'\n",
    "OBJECTID = \"CR1\"\n",
    "\n",
    "# set night directory name\n",
    "NIGHTDIR = '20230503'\n",
    "# set raw data root directory\n",
    "DATADIR =  \"/Volumes/Samsung_T5/Data/SPARC4/minidata/\"\n",
    "# set reduced data root directory\n",
    "REDUCEDDIR = \"/Volumes/Samsung_T5/Data/SPARC4/minidata/reduced/\"\n",
    "\n",
    "# set SPARC4 channel\n",
    "CHANNEL = 1  # 1, 2, 3 or 4\n",
    "\n",
    "# whether or not to force reduction even if product already exists\n",
    "FORCE = False\n",
    "\n",
    "# get SPARC4 pipeline parameters\n",
    "p = s4pipelib.init_s4_p(datadir=DATADIR,\n",
    "                        reducedir=REDUCEDDIR,\n",
    "                        nightdir=NIGHTDIR,\n",
    "                        channels=\"{}\".format(CHANNEL),\n",
    "                        print_report=False)\n",
    "\n",
    "# set maximum number of files for stacking\n",
    "p['NFILES_FOR_STACK'] = 3\n",
    "\n",
    "# set S/N threshold for detecting sources in stack\n",
    "p['PHOT_THRESHOLD'] = 10"
   ]
  },
  {
   "cell_type": "markdown",
   "metadata": {},
   "source": [
    "## Define input calibrations\n",
    "Here is where one should define the following calibrations:\n",
    "* Master bias\n",
    "* Master flat\n",
    "* A file containing the reference WCS for an astrometric solution"
   ]
  },
  {
   "cell_type": "code",
   "execution_count": 4,
   "metadata": {},
   "outputs": [],
   "source": [
    "# set master bias product file name\n",
    "p[\"master_bias\"] = \"{}/{}_s4c{}_MasterZero.fits\".format(p['reduce_directories'][CHANNEL-1],NIGHTDIR,CHANNEL)\n",
    "# set master flat product file name\n",
    "p[\"master_flat\"] = \"{}/{}_s4c{}_MasterDomeFlat.fits\".format(p['reduce_directories'][CHANNEL-1],NIGHTDIR,CHANNEL)\n",
    "\n",
    "# set reference image for rough astrometry \n",
    "p[\"ASTROM_REF_IMG\"] = p[\"ASTROM_REF_IMGS\"][CHANNEL-1]"
   ]
  },
  {
   "cell_type": "markdown",
   "metadata": {},
   "source": [
    "## 1. To produce an `ASTROMETRY` reference"
   ]
  },
  {
   "cell_type": "code",
   "execution_count": 5,
   "metadata": {},
   "outputs": [
    {
     "name": "stdout",
     "output_type": "stream",
     "text": [
      "4 Reference image: /Volumes/Samsung_T5/Data/SPARC4/minidata//sparc4acs1/20230503/20230503_s4c1_002026_cr1.fits\n",
      "OBJECT files: 3\n",
      "Loading science frames to memory ... \n",
      "gain: 0.8 electron / adu\n",
      "Calibrating science frames (CR, gain, bias, flat) ... \n",
      "Calibrating science frame 1 of 3 : 20230503_s4c1_002026_cr1.fits \n"
     ]
    },
    {
     "name": "stderr",
     "output_type": "stream",
     "text": [
      "/Users/eder/anaconda3/lib/python3.7/site-packages/astropop/_db.py:123: FutureWarning: elementwise comparison failed; returning scalar instead, but in the future will perform elementwise comparison\n",
      "  if k in self.keywords or add_columns:\n",
      "/Users/eder/anaconda3/lib/python3.7/site-packages/astropop/_db.py:82: FutureWarning: elementwise comparison failed; returning scalar instead, but in the future will perform elementwise comparison\n",
      "  if item not in self.keywords:\n",
      "/Users/eder/anaconda3/lib/python3.7/site-packages/astropop/_db.py:63: FutureWarning: elementwise comparison failed; returning scalar instead, but in the future will perform elementwise comparison\n",
      "  if name in self.keywords:\n",
      "/Users/eder/anaconda3/lib/python3.7/site-packages/astropop/_db.py:68: FutureWarning: elementwise comparison failed; returning scalar instead, but in the future will perform elementwise comparison\n",
      "  while col in self.keywords:\n"
     ]
    },
    {
     "name": "stdout",
     "output_type": "stream",
     "text": [
      "Calibrating science frame 2 of 3 : 20230503_s4c1_002025_cr1.fits \n",
      "Calibrating science frame 3 of 3 : 20230503_s4c1_002024_cr1.fits \n"
     ]
    },
    {
     "name": "stderr",
     "output_type": "stream",
     "text": [
      "2023-06-11 04:47:32,739 astropop - INFO - Registering image 1 from 3  [register]\n",
      "2023-06-11 04:47:32,749 astropop - INFO - Images are equal, skipping registering.  [register]\n",
      "2023-06-11 04:47:32,830 astropop - INFO - Registering image 2 from 3  [register]\n"
     ]
    },
    {
     "name": "stdout",
     "output_type": "stream",
     "text": [
      "Registering science frames and stacking them ... \n",
      "0 /Volumes/Samsung_T5/Data/SPARC4/minidata//sparc4acs1/20230503/20230503_s4c1_002026_cr1.fits\n",
      "1 /Volumes/Samsung_T5/Data/SPARC4/minidata//sparc4acs1/20230503/20230503_s4c1_002025_cr1.fits\n",
      "2 /Volumes/Samsung_T5/Data/SPARC4/minidata//sparc4acs1/20230503/20230503_s4c1_002024_cr1.fits\n"
     ]
    },
    {
     "name": "stderr",
     "output_type": "stream",
     "text": [
      "2023-06-11 04:47:33,120 astropop - INFO - Filling registered image with cval=24.90  [register]\n",
      "2023-06-11 04:47:33,120 astropop - INFO - Registering image with: translation=[-0.04100476 -0.3047347 ], rotation=0.00°  [register]\n",
      "2023-06-11 04:47:33,195 astropop - INFO - Registering image 3 from 3  [register]\n",
      "2023-06-11 04:47:33,463 astropop - INFO - Filling registered image with cval=24.09  [register]\n",
      "2023-06-11 04:47:33,464 astropop - INFO - Registering image with: translation=[-0.02307641  0.214458  ], rotation=0.00°  [register]\n",
      "2023-06-11 04:47:33,687 astropop - INFO - Combining 3 images with median method.  [imcombine]\n"
     ]
    },
    {
     "name": "stdout",
     "output_type": "stream",
     "text": [
      "Creating new catalog of detected sources:\n",
      "WARNING: could not solve astrometry, using WCS from database\n"
     ]
    }
   ],
   "source": [
    "# input file list for stack\n",
    "sci_list = p['objsInPhotdata'][CHANNEL-1][OBJECTID.replace(\" \",\"\")]\n",
    "\n",
    "# directory path to save astrometry reference\n",
    "reduce_dir = p['reduce_directories'][CHANNEL-1]\n",
    "\n",
    "# set suffix for the stack image name\n",
    "stack_suffix = \"{}_s4c{}_{}_astrometryRef\".format(NIGHTDIR,p['CHANNELS'][CHANNEL-1],OBJECTID.replace(\" \",\"\"))\n",
    "\n",
    "# calculate stack\n",
    "p = s4pipelib.stack_science_images(p,\n",
    "                                   sci_list,\n",
    "                                   reduce_dir=reduce_dir,\n",
    "                                   force=True,\n",
    "                                   stack_suffix=stack_suffix,\n",
    "                                   polarimetry=False)"
   ]
  },
  {
   "cell_type": "code",
   "execution_count": null,
   "metadata": {},
   "outputs": [],
   "source": [
    "s4plt.plot_sci_frame(p['OBJECT_STACK'], nstars=20, use_sky_coords=True)"
   ]
  },
  {
   "cell_type": "code",
   "execution_count": 6,
   "metadata": {},
   "outputs": [
    {
     "data": {
      "text/plain": [
       "'/Volumes/Samsung_T5/Data/SPARC4/minidata/reduced//sparc4acs1//20230503/20230503_s4c1_CR1_astrometryRef_stack.fits'"
      ]
     },
     "execution_count": 6,
     "metadata": {},
     "output_type": "execute_result"
    }
   ],
   "source": [
    "p['OBJECT_STACK']"
   ]
  },
  {
   "cell_type": "code",
   "execution_count": null,
   "metadata": {},
   "outputs": [],
   "source": []
  }
 ],
 "metadata": {
  "colab": {
   "provenance": []
  },
  "kernelspec": {
   "display_name": "Python 3 (ipykernel)",
   "language": "python",
   "name": "python3"
  },
  "language_info": {
   "codemirror_mode": {
    "name": "ipython",
    "version": 3
   },
   "file_extension": ".py",
   "mimetype": "text/x-python",
   "name": "python",
   "nbconvert_exporter": "python",
   "pygments_lexer": "ipython3",
   "version": "3.9.7"
  }
 },
 "nbformat": 4,
 "nbformat_minor": 1
}

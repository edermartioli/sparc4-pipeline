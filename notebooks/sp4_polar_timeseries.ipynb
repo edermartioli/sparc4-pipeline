{
 "cells": [
  {
   "cell_type": "markdown",
   "metadata": {
    "id": "JtWbwmhSXmd-"
   },
   "source": [
    "# SPARC-4 mini-pipeline tools\n",
    "## Polarimetry time series\n",
    "\n",
    "This notebook shows an example for obtaining a polarimetric time series\n",
    "\n",
    "* Eder Martioli, LNA 13 Jun 2023"
   ]
  },
  {
   "cell_type": "code",
   "execution_count": 1,
   "metadata": {
    "id": "P2-Lw_FAXmeA"
   },
   "outputs": [],
   "source": [
    "import os, sys\n",
    "path_parent = os.path.dirname(os.getcwd())\n",
    "# path_parent = \"/Volumes/Samsung_T5/sparc4-pipeline/\"\n",
    "sys.path.append(path_parent) \n",
    "\n",
    "import glob\n",
    "\n",
    "import sparc4_pipeline_lib as s4pipelib\n",
    "import sparc4_utils as s4utils\n",
    "import sparc4_product_plots as s4plt"
   ]
  },
  {
   "cell_type": "markdown",
   "metadata": {},
   "source": [
    "### User inputs"
   ]
  },
  {
   "cell_type": "code",
   "execution_count": 2,
   "metadata": {},
   "outputs": [],
   "source": [
    "# set an object ID matching the ID in the image header keyword 'OBJECT'\n",
    "OBJECTID = \"HD111579\"\n",
    "OBJECT_SUFFIX = \"hd111_l2\"\n",
    "\n",
    "# set night directory name\n",
    "NIGHTDIR = '20230503'\n",
    "# set raw data root directory\n",
    "DATADIR =  \"/Volumes/Samsung_T5/Data/SPARC4/minidata/\"\n",
    "# set reduced data root directory\n",
    "REDUCEDDIR = \"/Volumes/Samsung_T5/Data/SPARC4/minidata/reduced/\"\n",
    "\n",
    "# set SPARC4 channel\n",
    "CHANNEL = 1  # 1, 2, 3 or 4\n",
    "\n",
    "# whether or not to force reduction even if product already exists\n",
    "FORCE = True\n",
    "\n",
    "# get SPARC4 pipeline parameters\n",
    "p = s4pipelib.init_s4_p(datadir=DATADIR,\n",
    "                        reducedir=REDUCEDDIR,\n",
    "                        nightdir=NIGHTDIR,\n",
    "                        channels=\"{}\".format(CHANNEL),\n",
    "                        print_report=False)"
   ]
  },
  {
   "cell_type": "markdown",
   "metadata": {},
   "source": [
    "# Calculate POLARIMETRY time series"
   ]
  },
  {
   "cell_type": "code",
   "execution_count": 3,
   "metadata": {},
   "outputs": [],
   "source": [
    "# set wild card to identify polarimetric sequence\n",
    "l2seq_wild_card = \"_{}_polar.fits\".format(OBJECT_SUFFIX)\n",
    "\n",
    "# produce list of reduced polarimetry frames in the sequence\n",
    "l2seq = glob.glob(\"{}/*{}\".format(p['reduce_directories'][CHANNEL-1], l2seq_wild_card))\n",
    "\n",
    "# set suffix for output time series filename\n",
    "ts_suffix = \"{}_s4c{}_{}_L4\".format(NIGHTDIR,p['CHANNELS'][CHANNEL-1],OBJECTID.replace(\" \",\"\"))\n",
    "\n",
    "# create polar time series product\n",
    "polar_ts_L4product = s4pipelib.polar_time_series(l2seq,\n",
    "                                                 reduce_dir=REDUCEDDIR,\n",
    "                                                 ts_suffix=ts_suffix,\n",
    "                                                 aperture_index=p['APERTURE_INDEX_FOR_PHOTOMETRY_IN_POLAR'],\n",
    "                                                 min_aperture=p['MIN_APERTURE_FOR_POLARIMETRY'],\n",
    "                                                 max_aperture=p['MAX_APERTURE_FOR_POLARIMETRY'],\n",
    "                                                 force=FORCE)"
   ]
  },
  {
   "cell_type": "markdown",
   "metadata": {},
   "source": [
    "# Check the time series data in the FITS file"
   ]
  },
  {
   "cell_type": "code",
   "execution_count": 15,
   "metadata": {},
   "outputs": [
    {
     "name": "stdout",
     "output_type": "stream",
     "text": [
      "Filename: /Volumes/Samsung_T5/Data/SPARC4/minidata/reduced/20230503_s4c1_HD111579_L4_polar_ts.fits\n",
      "No.    Name      Ver    Type      Cards   Dimensions   Format\n",
      "  0  PRIMARY       1 PrimaryHDU      26   ()      \n",
      "  1  POLAR_TIMESERIES_00000    1 BinTableHDU     59   1R x 25C   [D, D, D, D, D, D, D, D, D, D, D, D, D, D, D, D, D, D, D, D, D, D, D, D, D]   \n",
      "  2  POLAR_TIMESERIES_00001    1 BinTableHDU     59   1R x 25C   [D, D, D, D, D, D, D, D, D, D, D, D, D, D, D, D, D, D, D, D, D, D, D, D, D]   \n",
      "  3  POLAR_TIMESERIES_00002    1 BinTableHDU     59   1R x 25C   [D, D, D, D, D, D, D, D, D, D, D, D, D, D, D, D, D, D, D, D, D, D, D, D, D]   \n",
      "  4  POLAR_TIMESERIES_00003    1 BinTableHDU     59   1R x 25C   [D, D, D, D, D, D, D, D, D, D, D, D, D, D, D, D, D, D, D, D, D, D, D, D, D]   \n",
      "  5  POLAR_TIMESERIES_00004    1 BinTableHDU     59   1R x 25C   [D, D, D, D, D, D, D, D, D, D, D, D, D, D, D, D, D, D, D, D, D, D, D, D, D]   \n"
     ]
    }
   ],
   "source": [
    "import astropy.io.fits as fits\n",
    "# open the polarimetric time series product:\n",
    "hdul = fits.open(polar_ts_L4product)\n",
    "# print info, where each extension contains the time series data for one source. \n",
    "hdul.info()"
   ]
  },
  {
   "cell_type": "code",
   "execution_count": 16,
   "metadata": {},
   "outputs": [
    {
     "data": {
      "text/plain": [
       "FITS_rec([(2460068.5201095, -13.72050512, 0.00035426, 4.45102879, 489.42837751, 514.32285393, 492.68593614, 556.96670452, 0.03773501, 0.00031304, -0.0497265, 0.00031298, nan, nan, 0.0624232, 0.000313, 153.59654485, 0.14340636, 1.04154518, nan, 0., 0., 16., 5., 0.549838)],\n",
       "         dtype=(numpy.record, [('TIME', '>f8'), ('MAG', '>f8'), ('EMAG', '>f8'), ('FWHM', '>f8'), ('X1', '>f8'), ('Y1', '>f8'), ('X2', '>f8'), ('Y2', '>f8'), ('Q', '>f8'), ('EQ', '>f8'), ('U', '>f8'), ('EU', '>f8'), ('V', '>f8'), ('EV', '>f8'), ('P', '>f8'), ('EP', '>f8'), ('THETA', '>f8'), ('ETHETA', '>f8'), ('K', '>f8'), ('EK', '>f8'), ('ZERO', '>f8'), ('EZERO', '>f8'), ('NOBS', '>f8'), ('NPAR', '>f8'), ('CHI2', '>f8')]))"
      ]
     },
     "execution_count": 16,
     "metadata": {},
     "output_type": "execute_result"
    }
   ],
   "source": [
    "# Below is to check the time series data for the first source\n",
    "hdul[\"POLAR_TIMESERIES_00000\"].data"
   ]
  },
  {
   "cell_type": "code",
   "execution_count": 17,
   "metadata": {},
   "outputs": [],
   "source": [
    "# Below is an example on how to get times, polarizations and uncertainties for the time series.\n",
    "bjd = hdul[\"POLAR_TIMESERIES_00000\"].data['TIME']\n",
    "pol = hdul[\"POLAR_TIMESERIES_00000\"].data['P'] \n",
    "polerr = hdul[\"POLAR_TIMESERIES_00000\"].data['EP'] "
   ]
  },
  {
   "cell_type": "code",
   "execution_count": null,
   "metadata": {},
   "outputs": [],
   "source": []
  }
 ],
 "metadata": {
  "colab": {
   "provenance": []
  },
  "kernelspec": {
   "display_name": "Python 3 (ipykernel)",
   "language": "python",
   "name": "python3"
  },
  "language_info": {
   "codemirror_mode": {
    "name": "ipython",
    "version": 3
   },
   "file_extension": ".py",
   "mimetype": "text/x-python",
   "name": "python",
   "nbconvert_exporter": "python",
   "pygments_lexer": "ipython3",
   "version": "3.9.7"
  }
 },
 "nbformat": 4,
 "nbformat_minor": 1
}

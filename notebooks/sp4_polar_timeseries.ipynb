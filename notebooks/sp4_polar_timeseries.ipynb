{
 "cells": [
  {
   "cell_type": "markdown",
   "metadata": {
    "id": "JtWbwmhSXmd-"
   },
   "source": [
    "## SPARC-4 mini-pipeline tools\n",
    "***\n",
    "# <font color='darkblue'>Polarimetry time series</font> \n",
    "\n",
    "This notebook shows an example for obtaining a polarimetric time series\n",
    "\n",
    "* Eder Martioli, LNA 20 Jun 2023\n",
    "\n",
    "<div class=\"alert alert-block alert-warning\">\n",
    "<b>WARNING:</b> it requires running <b>sp4_polarimetry.ipynb</b> in advance, for the same channel and modes, to generate *_polar.fits reduced files\n",
    "</div>"
   ]
  },
  {
   "cell_type": "code",
   "execution_count": 1,
   "metadata": {
    "id": "P2-Lw_FAXmeA"
   },
   "outputs": [
    {
     "name": "stderr",
     "output_type": "stream",
     "text": [
      "/Users/eder/anaconda3/lib/python3.7/site-packages/dask/config.py:168: YAMLLoadWarning: calling yaml.load() without Loader=... is deprecated, as the default Loader is unsafe. Please read https://msg.pyyaml.org/load for full details.\n",
      "  data = yaml.load(f.read()) or {}\n"
     ]
    }
   ],
   "source": [
    "import os,sys\n",
    "sys.path.append(os.path.dirname(os.getcwd()))\n",
    "import sparc4_product_plots as s4plt\n",
    "import sparc4_pipeline_lib as s4pipelib\n",
    "import sparc4_utils as s4utils\n",
    "import sparc4_db as s4db\n",
    "import glob"
   ]
  },
  {
   "cell_type": "markdown",
   "metadata": {},
   "source": [
    "### User inputs"
   ]
  },
  {
   "cell_type": "code",
   "execution_count": 2,
   "metadata": {},
   "outputs": [],
   "source": [
    "# set an object ID matching the ID in the image header keyword 'OBJECT'\n",
    "OBJECTID = \"HD111579\"\n",
    "OBJECT_SUFFIX = \"hd111_l2\"\n",
    "\n",
    "# set night directory name\n",
    "NIGHTDIR = '20230503'\n",
    "# set raw data root directory\n",
    "DATADIR =  \"/Volumes/Samsung_T5/Data/SPARC4/minidata/\"\n",
    "# set reduced data root directory\n",
    "REDUCEDDIR = \"/Volumes/Samsung_T5/Data/SPARC4/minidata/reduced/\"\n",
    "\n",
    "# set SPARC4 channel\n",
    "CHANNEL = 4  # 1, 2, 3 or 4\n",
    "\n",
    "# whether or not to force reduction even if product already exists\n",
    "FORCE = False\n",
    "\n",
    "# get SPARC4 pipeline parameters\n",
    "p = s4pipelib.init_s4_p(datadir=DATADIR,\n",
    "                        reducedir=REDUCEDDIR,\n",
    "                        nightdir=NIGHTDIR,\n",
    "                        channels=\"{}\".format(CHANNEL),\n",
    "                        print_report=False)\n",
    "\n",
    "# create database of raw data for reduction\n",
    "db = s4db.create_db_from_observations(p['filelists'][CHANNEL-1], \n",
    "                                      p['DB_KEYS'], \n",
    "                                      include_img_statistics=p[\"INCLUDE_IMG_STATISTICS\"], \n",
    "                                      include_only_fullframe=p[\"FULL_FRAMES_ONLY\"], \n",
    "                                      output=p['s4db_files'][CHANNEL-1])\n",
    "\n",
    "# detect all detector modes\n",
    "detector_modes = s4db.get_detector_modes_observed(db, \n",
    "                                                  science_only=True,\n",
    "                                                  detector_keys=p[\"DETECTOR_MODE_KEYWORDS\"])\n",
    "# get first valid key\n",
    "mode_key = next(iter(detector_modes))\n",
    "\n",
    "# set PHOTOMETRIC mode\n",
    "inst_mode = p['INSTMODE_POLARIMETRY_KEYVALUE']\n",
    "\n",
    "# we need the reduce directory \n",
    "reduce_ch_dir = p['reduce_directories'][CHANNEL-1]"
   ]
  },
  {
   "cell_type": "markdown",
   "metadata": {},
   "source": [
    "# Calculate POLARIMETRY time series"
   ]
  },
  {
   "cell_type": "code",
   "execution_count": 3,
   "metadata": {},
   "outputs": [
    {
     "name": "stdout",
     "output_type": "stream",
     "text": [
      "['/Volumes/Samsung_T5/Data/SPARC4/minidata/reduced//sparc4acs4//20230503/20230503_s4c4_002119_hd111_l2_polar.fits']\n",
      "Packing time series data for polar file 1 of 1\n"
     ]
    }
   ],
   "source": [
    "# set wild card to identify polarimetric sequence\n",
    "l2seq_wild_card = \"_{}_polar.fits\".format(OBJECT_SUFFIX)\n",
    "\n",
    "# produce list of reduced polarimetry frames in the sequence\n",
    "l2seq = glob.glob(\"{}/*{}\".format(p['reduce_directories'][CHANNEL-1], l2seq_wild_card))\n",
    "\n",
    "print(l2seq)\n",
    "\n",
    "# set suffix for output time series filename\n",
    "ts_suffix = \"{}_s4c{}_{}_L4\".format(NIGHTDIR,p['CHANNELS'][CHANNEL-1],OBJECTID.replace(\" \",\"\"))\n",
    "\n",
    "# create polar time series product\n",
    "polar_ts_L2product = s4pipelib.polar_time_series(l2seq,\n",
    "                                                 reduce_dir=reduce_ch_dir,\n",
    "                                                 ts_suffix=ts_suffix,\n",
    "                                                 aperture_radius=p['APERTURE_RADIUS_FOR_PHOTOMETRY_IN_POLAR'],\n",
    "                                                 min_aperture=p['MIN_APERTURE_FOR_POLARIMETRY'],\n",
    "                                                 max_aperture=p['MAX_APERTURE_FOR_POLARIMETRY'],\n",
    "                                                 force=FORCE)"
   ]
  },
  {
   "cell_type": "markdown",
   "metadata": {},
   "source": [
    "# Check the time series data in the FITS file"
   ]
  },
  {
   "cell_type": "code",
   "execution_count": 4,
   "metadata": {},
   "outputs": [
    {
     "name": "stdout",
     "output_type": "stream",
     "text": [
      "Filename: /Volumes/Samsung_T5/Data/SPARC4/minidata/reduced//sparc4acs4//20230503/20230503_s4c4_HD111579_L4_ts.fits\n",
      "No.    Name      Ver    Type      Cards   Dimensions   Format\n",
      "  0  PRIMARY       1 PrimaryHDU      25   ()      \n",
      "  1  POLAR_TIMESERIES    1 BinTableHDU     65   36R x 28C   [D, D, D, D, D, D, D, D, D, D, D, D, D, D, D, D, D, D, D, D, D, D, D, D, D, D, D, D]   \n"
     ]
    }
   ],
   "source": [
    "import astropy.io.fits as fits\n",
    "# open the polarimetric time series product:\n",
    "hdul = fits.open(polar_ts_L2product)\n",
    "# print info, where each extension contains the time series data for one source. \n",
    "hdul.info()"
   ]
  },
  {
   "cell_type": "code",
   "execution_count": null,
   "metadata": {},
   "outputs": [],
   "source": []
  }
 ],
 "metadata": {
  "colab": {
   "provenance": []
  },
  "kernelspec": {
   "display_name": "Python 3",
   "language": "python",
   "name": "python3"
  },
  "language_info": {
   "codemirror_mode": {
    "name": "ipython",
    "version": 3
   },
   "file_extension": ".py",
   "mimetype": "text/x-python",
   "name": "python",
   "nbconvert_exporter": "python",
   "pygments_lexer": "ipython3",
   "version": "3.7.3"
  }
 },
 "nbformat": 4,
 "nbformat_minor": 1
}

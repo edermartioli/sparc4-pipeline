{
 "cells": [
  {
   "cell_type": "markdown",
   "metadata": {
    "id": "JtWbwmhSXmd-"
   },
   "source": [
    "# SPARC-4 mini-pipeline tools\n",
    "## Night report\n",
    "\n",
    "This notebook shows an example of obtaining a night report for observations made with the SPARC4 instrument. It assumes the following directory structure for the four SPARC4 channels:\n",
    "\n",
    "```\n",
    "DATADIR/\n",
    "    /sparc4acs1/NIGHT/\n",
    "    /sparc4acs2/NIGHT/\n",
    "    /sparc4acs3/NIGHT/\n",
    "    /sparc4acs4/NIGHT/   \n",
    "```     \n",
    "\n",
    "The reduced data products will be saved in a similar directory structure as above, however for a given root directory `REDUCEDIR` rather than `DATADIR`.\n",
    "\n",
    "* Eder Martioli, LNA 14 Feb 2023"
   ]
  },
  {
   "cell_type": "code",
   "execution_count": 1,
   "metadata": {
    "id": "P2-Lw_FAXmeA"
   },
   "outputs": [],
   "source": [
    "import os,sys\n",
    "path_parent = os.path.dirname(os.getcwd())\n",
    "# path_parent = \"/Volumes/Samsung_T5/sparc4-pipeline/\"\n",
    "sys.path.append(path_parent) \n",
    "import sparc4_utils as s4utils\n",
    "import sparc4_params"
   ]
  },
  {
   "cell_type": "code",
   "execution_count": 2,
   "metadata": {},
   "outputs": [],
   "source": [
    "# load pipeline parameters\n",
    "p = sparc4_params.load_sparc4_parameters()\n",
    "\n",
    "# set raw data root directory (where raw data will be searched)\n",
    "p['ROOTDATADIR'] = \"/Volumes/Samsung_T5/Data/SPARC4/minidata/\""
   ]
  },
  {
   "cell_type": "code",
   "execution_count": 3,
   "metadata": {},
   "outputs": [],
   "source": [
    "# set night directory name\n",
    "nightdir = '20230503'\n",
    "#nightdir = '20230222'"
   ]
  },
  {
   "cell_type": "code",
   "execution_count": 4,
   "metadata": {},
   "outputs": [
    {
     "name": "stdout",
     "output_type": "stream",
     "text": [
      "***************************************\n",
      "********* Night: 20230503 ***********\n",
      "***************************************\n",
      "Total number of images : 188\n",
      "Night dir: /Volumes/Samsung_T5/Data/SPARC4/minidata//sparc4acs1/20230503/\n",
      "\tNumber of images in channel 1: 47\n",
      "Night dir: /Volumes/Samsung_T5/Data/SPARC4/minidata//sparc4acs2/20230503/\n",
      "\tNumber of images in channel 2: 47\n",
      "Night dir: /Volumes/Samsung_T5/Data/SPARC4/minidata//sparc4acs3/20230503/\n",
      "\tNumber of images in channel 3: 47\n",
      "Night dir: /Volumes/Samsung_T5/Data/SPARC4/minidata//sparc4acs4/20230503/\n",
      "\tNumber of images in channel 4: 47\n",
      "---------------------------------------\n",
      "Total number of calibration images: 40\n",
      "\tNumber of zero images: 20\n",
      "\t\t 5 zero images in channel 1\n",
      "\t\t 5 zero images in channel 2\n",
      "\t\t 5 zero images in channel 3\n",
      "\t\t 5 zero images in channel 4\n",
      "\tNumber of dome flat images: 20\n",
      "\t\t 5 dome flat images in channel 1\n",
      "\t\t 5 dome flat images in channel 2\n",
      "\t\t 5 dome flat images in channel 3\n",
      "\t\t 5 dome flat images in channel 4\n",
      "\tNumber of sky flat images: 0\n",
      "\tNumber of dark images: 0\n",
      "\tNumber of focus images: 0\n",
      "---------------------------------------\n",
      "Total number of science images: 148\n",
      "\t 37 science images in channel 1\n",
      "\t 37 science images in channel 2\n",
      "\t 37 science images in channel 3\n",
      "\t 37 science images in channel 4\n",
      "\tTotal number of images in PHOT: 20\n",
      "\t\t 5 PHOT images in channel 1\n",
      "\t\t 5 PHOT images in channel 2\n",
      "\t\t 5 PHOT images in channel 3\n",
      "\t\t 5 PHOT images in channel 4\n",
      "\tTotal number of images in POLAR: 128\n",
      "\t\t 32 POLAR images in channel 1\n",
      "\t\t 32 POLAR images in channel 2\n",
      "\t\t 32 POLAR images in channel 3\n",
      "\t\t 32 POLAR images in channel 4\n",
      "\t\tNumber of POLAR images in L/2: 64\n",
      "\t\t\t 16 POLAR L/2 images in channel 1\n",
      "\t\t\t 16 POLAR L/2 images in channel 2\n",
      "\t\t\t 16 POLAR L/2 images in channel 3\n",
      "\t\t\t 16 POLAR L/2 images in channel 4\n",
      "\t\tNumber of POLAR images in L/4: 64\n",
      "\t\t\t 16 POLAR L/4 images in channel 1\n",
      "\t\t\t 16 POLAR L/4 images in channel 2\n",
      "\t\t\t 16 POLAR L/4 images in channel 3\n",
      "\t\t\t 16 POLAR L/4 images in channel 4\n",
      "---------------------------------------\n",
      "Total number of objects observed in channel 1: 2\n",
      "\tHD111579 has 32 images in channel 1\n",
      "\tCR1 has 5 images in channel 1\n",
      "\t\t 1 objects observed in PHOT \n",
      "\t\t\tCR1 has 5 images in PHOT\n",
      "\t\t 1 objects observed in POLAR \n",
      "\t\t\tHD111579 has 32 images\n",
      "\t\t 1 objects observed in POLAR L/2\n",
      "\t\t\tHD111579 has 16 images\n",
      "\t\t 1 objects observed in POLAR L/4\n",
      "\t\t\tHD111579 has 16 images\n",
      "---------------------------------------\n",
      "Total number of objects observed in channel 2: 2\n",
      "\tHD111579 has 32 images in channel 2\n",
      "\tCR1 has 5 images in channel 2\n",
      "\t\t 1 objects observed in PHOT \n",
      "\t\t\tCR1 has 5 images in PHOT\n",
      "\t\t 1 objects observed in POLAR \n",
      "\t\t\tHD111579 has 32 images\n",
      "\t\t 1 objects observed in POLAR L/2\n",
      "\t\t\tHD111579 has 16 images\n",
      "\t\t 1 objects observed in POLAR L/4\n",
      "\t\t\tHD111579 has 16 images\n",
      "---------------------------------------\n",
      "Total number of objects observed in channel 3: 2\n",
      "\tHD111579 has 32 images in channel 3\n",
      "\tCR1 has 5 images in channel 3\n",
      "\t\t 1 objects observed in PHOT \n",
      "\t\t\tCR1 has 5 images in PHOT\n",
      "\t\t 1 objects observed in POLAR \n",
      "\t\t\tHD111579 has 32 images\n",
      "\t\t 1 objects observed in POLAR L/2\n",
      "\t\t\tHD111579 has 16 images\n",
      "\t\t 1 objects observed in POLAR L/4\n",
      "\t\t\tHD111579 has 16 images\n",
      "---------------------------------------\n",
      "Total number of objects observed in channel 4: 2\n",
      "\tHD111579 has 32 images in channel 4\n",
      "\tCR1 has 5 images in channel 4\n",
      "\t\t 1 objects observed in PHOT \n",
      "\t\t\tCR1 has 5 images in PHOT\n",
      "\t\t 1 objects observed in POLAR \n",
      "\t\t\tHD111579 has 32 images\n",
      "\t\t 1 objects observed in POLAR L/2\n",
      "\t\t\tHD111579 has 16 images\n",
      "\t\t 1 objects observed in POLAR L/4\n",
      "\t\t\tHD111579 has 16 images\n",
      "---------------------------------------\n",
      "***************************************\n"
     ]
    }
   ],
   "source": [
    "#organize files to be reduced\n",
    "p = s4utils.identify_files(p, nightdir, print_report=True)"
   ]
  },
  {
   "cell_type": "code",
   "execution_count": null,
   "metadata": {},
   "outputs": [],
   "source": []
  }
 ],
 "metadata": {
  "colab": {
   "provenance": []
  },
  "kernelspec": {
   "display_name": "Python 3 (ipykernel)",
   "language": "python",
   "name": "python3"
  },
  "language_info": {
   "codemirror_mode": {
    "name": "ipython",
    "version": 3
   },
   "file_extension": ".py",
   "mimetype": "text/x-python",
   "name": "python",
   "nbconvert_exporter": "python",
   "pygments_lexer": "ipython3",
   "version": "3.9.7"
  }
 },
 "nbformat": 4,
 "nbformat_minor": 1
}
